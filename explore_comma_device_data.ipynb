{
 "cells": [
  {
   "cell_type": "markdown",
   "metadata": {},
   "source": [
    "# Exploring the CommaAI Device data\n",
    "\n",
    "This requires python 3.11 or later because of the usage of the tools folder from Openpilot, which uses 3.11 features"
   ]
  },
  {
   "cell_type": "code",
   "execution_count": 3,
   "metadata": {},
   "outputs": [
    {
     "name": "stderr",
     "output_type": "stream",
     "text": [
      "/tmp/ipykernel_3072533/1313606866.py:5: DeprecationWarning: \n",
      "Pyarrow will become a required dependency of pandas in the next major release of pandas (pandas 3.0),\n",
      "(to allow more performant data types, such as the Arrow string type, and better interoperability with other libraries)\n",
      "but was not found to be installed on your system.\n",
      "If this would cause problems for you,\n",
      "please provide us feedback at https://github.com/pandas-dev/pandas/issues/54466\n",
      "        \n",
      "  import pandas as pd\n",
      "kj/filesystem-disk-unix.c++:1703: warning: PWD environment variable doesn't match current directory; pwd = /home/ulrikro\n"
     ]
    }
   ],
   "source": [
    "import numpy as np\n",
    "import matplotlib.pyplot as plt\n",
    "from PIL import Image\n",
    "import cv2\n",
    "import pandas as pd\n",
    "from pathlib import Path\n",
    "# This is taken from the Openpilot project\n",
    "from openpilot.tools.lib.logreader import LogReader\n",
    "from dataclasses import dataclass\n",
    "from typing import List"
   ]
  },
  {
   "cell_type": "code",
   "execution_count": 4,
   "metadata": {},
   "outputs": [],
   "source": [
    "device_path = Path(\"/home/ulrikro/datasets/CommaAI/2024-01-14--13-01-26--10/\")"
   ]
  },
  {
   "cell_type": "markdown",
   "metadata": {},
   "source": [
    "# About the folder\n",
    "\n",
    "Each folder, marked by their data and a number, contains 5 files: ecamera.hevc, fcamera.hevc, qcamera.ts, qlog, rlog. Each file contains 1 min video. \n",
    "\n",
    "* ecamera.hevc - road facing wide angle camera 1928*1208 at 20Hz\n",
    "* fcamera.hevc - road facing narrow camera 1928*1208 at 20Hz\n",
    "* qcamera.ts - driver facing wide angle camera 526*330 at 20Hz\n",
    "* qlog - some\n",
    "* rlog - some\n",
    "\n"
   ]
  },
  {
   "cell_type": "code",
   "execution_count": 5,
   "metadata": {},
   "outputs": [],
   "source": [
    "ecamera_path = device_path / \"ecamera.hevc\"\n",
    "fcamera_path = device_path / \"fcamera.hevc\"\n",
    "qcamera_path = device_path / \"qcamera.ts\"\n",
    "qlog_path = device_path / \"qlog\"\n",
    "rlog_path = device_path / \"rlog\"\n"
   ]
  },
  {
   "cell_type": "markdown",
   "metadata": {},
   "source": [
    "# Overview of the video files"
   ]
  },
  {
   "cell_type": "code",
   "execution_count": 6,
   "metadata": {},
   "outputs": [],
   "source": [
    "def read_video_frames(file_path: str):\n",
    "    frames = []\n",
    "    video = cv2.VideoCapture(file_path)\n",
    "    while video.isOpened():\n",
    "        ret, frame = video.read()\n",
    "        if not ret:\n",
    "            break\n",
    "        frames.append(frame)\n",
    "    video.release()\n",
    "    return frames"
   ]
  },
  {
   "cell_type": "code",
   "execution_count": 7,
   "metadata": {},
   "outputs": [
    {
     "data": {
      "text/plain": [
       "1200"
      ]
     },
     "execution_count": 7,
     "metadata": {},
     "output_type": "execute_result"
    }
   ],
   "source": [
    "ecamera_frames = read_video_frames(ecamera_path.as_posix())\n",
    "len(ecamera_frames)"
   ]
  },
  {
   "cell_type": "code",
   "execution_count": 8,
   "metadata": {},
   "outputs": [
    {
     "data": {
      "text/plain": [
       "(1208, 1928, 3)"
      ]
     },
     "execution_count": 8,
     "metadata": {},
     "output_type": "execute_result"
    }
   ],
   "source": [
    "ecamera_frames[0].shape"
   ]
  },
  {
   "cell_type": "code",
   "execution_count": 9,
   "metadata": {},
   "outputs": [
    {
     "data": {
      "text/plain": [
       "1200"
      ]
     },
     "execution_count": 9,
     "metadata": {},
     "output_type": "execute_result"
    }
   ],
   "source": [
    "fcamera_frames = read_video_frames(fcamera_path.as_posix())\n",
    "len(fcamera_frames)"
   ]
  },
  {
   "cell_type": "code",
   "execution_count": 10,
   "metadata": {},
   "outputs": [
    {
     "data": {
      "text/plain": [
       "(1208, 1928, 3)"
      ]
     },
     "execution_count": 10,
     "metadata": {},
     "output_type": "execute_result"
    }
   ],
   "source": [
    "fcamera_frames[0].shape"
   ]
  },
  {
   "cell_type": "code",
   "execution_count": 11,
   "metadata": {},
   "outputs": [
    {
     "data": {
      "text/plain": [
       "1200"
      ]
     },
     "execution_count": 11,
     "metadata": {},
     "output_type": "execute_result"
    }
   ],
   "source": [
    "qcamera_frames = read_video_frames(qcamera_path.as_posix())\n",
    "len(qcamera_frames)"
   ]
  },
  {
   "cell_type": "code",
   "execution_count": 12,
   "metadata": {},
   "outputs": [
    {
     "data": {
      "text/plain": [
       "(330, 526, 3)"
      ]
     },
     "execution_count": 12,
     "metadata": {},
     "output_type": "execute_result"
    }
   ],
   "source": [
    "qcamera_frames[0].shape"
   ]
  },
  {
   "cell_type": "markdown",
   "metadata": {},
   "source": [
    "# Overview of the log files"
   ]
  },
  {
   "cell_type": "code",
   "execution_count": 13,
   "metadata": {},
   "outputs": [],
   "source": [
    "qlog_data = LogReader(qlog_path.as_posix())"
   ]
  },
  {
   "cell_type": "code",
   "execution_count": 14,
   "metadata": {},
   "outputs": [
    {
     "data": {
      "text/plain": [
       "11515"
      ]
     },
     "execution_count": 14,
     "metadata": {},
     "output_type": "execute_result"
    }
   ],
   "source": [
    "qlog_list = list(qlog_data)\n",
    "len(qlog_list)"
   ]
  },
  {
   "cell_type": "markdown",
   "metadata": {},
   "source": [
    "Each iteration throug the log data retruns a capnp.lib.capnp._DynamicStructReader object. \n",
    "\n",
    "capnp is a proto schema parsing library \n",
    "\n",
    "The proto schema seems to be defined in openpilot/common/params.cc\n",
    " \n"
   ]
  },
  {
   "cell_type": "markdown",
   "metadata": {},
   "source": []
  },
  {
   "cell_type": "code",
   "execution_count": 15,
   "metadata": {},
   "outputs": [],
   "source": [
    "@dataclass\n",
    "class CommandEntry:\n",
    "    key: str\n",
    "    value: str\n",
    "\n",
    "@dataclass\n",
    "class Commands:\n",
    "    entries: List[CommandEntry]\n",
    "\n",
    "@dataclass\n",
    "class ParamEntry:\n",
    "    key: str\n",
    "    value: str\n",
    "\n",
    "@dataclass\n",
    "class Params:\n",
    "    entries: List[ParamEntry]\n",
    "\n",
    "@dataclass\n",
    "class InitData:\n",
    "    kernelArgs: List[str]\n",
    "    dongleId: str\n",
    "    deviceType: str\n",
    "    version: str\n",
    "    dirty: bool\n",
    "    gitCommit: str\n",
    "    gitBranch: str\n",
    "    passive: bool\n",
    "    gitRemote: str\n",
    "    kernelVersion: str\n",
    "    params: Params\n",
    "    osVersion: str\n",
    "    commands: Commands\n",
    "\n",
    "@dataclass\n",
    "class LogData:\n",
    "    logMonoTime: int\n",
    "    initData: InitData\n",
    "    valid: bool\n",
    "    # these just include a subset of the data"
   ]
  },
  {
   "cell_type": "code",
   "execution_count": 16,
   "metadata": {},
   "outputs": [],
   "source": [
    "qlog_list: List[LogData] = list(qlog_data)"
   ]
  },
  {
   "cell_type": "code",
   "execution_count": 17,
   "metadata": {},
   "outputs": [
    {
     "name": "stdout",
     "output_type": "stream",
     "text": [
      "['_get', '_get_by_field', '_has', '_has_by_field', '_parent', '_which', '_which_str', 'accelerometer', 'accelerometer2', 'androidGnssDEPRECATED', 'androidLog', 'applanixLocationDEPRECATED', 'applanixRawDEPRECATED', 'as_builder', 'boot', 'cameraOdometry', 'can', 'carControl', 'carParams', 'carState', 'cellInfoDEPRECATED', 'clocks', 'controlsState', 'customReserved0', 'customReserved1', 'customReserved2', 'customReserved3', 'customReserved4', 'customReserved5', 'customReserved6', 'customReserved7', 'customReserved8', 'customReserved9', 'customReservedRawData0', 'customReservedRawData1', 'customReservedRawData2', 'deviceState', 'driverCameraState', 'driverEncodeData', 'driverEncodeIdx', 'driverMonitoringState', 'driverStateDEPRECATED', 'driverStateV2', 'errorLogMessage', 'ethernetDataDEPRECATED', 'featuresDEPRECATED', 'gnssMeasurements', 'gpsLocation', 'gpsLocationExternal', 'gpsNMEA', 'gpsPlannerPlanDEPRECATED', 'gpsPlannerPointsDEPRECATED', 'gyroscope', 'gyroscope2', 'initData', 'is_root', 'kalmanOdometryDEPRECATED', 'lateralPlanDEPRECATED', 'lidarPtsDEPRECATED', 'lightSensor', 'liveCalibration', 'liveEventDEPRECATED', 'liveLocationCorrectedDEPRECATED', 'liveLocationDEPRECATED', 'liveLocationKalman', 'liveLocationKalmanDEPRECATED', 'liveLocationTimingDEPRECATED', 'liveLongitudinalMpcDEPRECATED', 'liveMapDataDEPRECATED', 'liveMpcDEPRECATED', 'liveParameters', 'liveTorqueParameters', 'liveTracks', 'liveUIDEPRECATED', 'livestreamDriverEncodeData', 'livestreamDriverEncodeIdx', 'livestreamRoadEncodeData', 'livestreamRoadEncodeIdx', 'livestreamWideRoadEncodeData', 'livestreamWideRoadEncodeIdx', 'locationDEPRECATED', 'logMessage', 'logMonoTime', 'longitudinalPlan', 'magnetometer', 'managerState', 'mapRenderState', 'microphone', 'model', 'modelV2', 'navInstruction', 'navModel', 'navRoute', 'navStatusDEPRECATED', 'navThumbnail', 'navUpdateDEPRECATED', 'onroadEvents', 'orbFeaturesDEPRECATED', 'orbFeaturesSummaryDEPRECATED', 'orbKeyFrameDEPRECATED', 'orbObservationDEPRECATED', 'orbOdometryDEPRECATED', 'orbslamCorrectionDEPRECATED', 'pandaStateDEPRECATED', 'pandaStates', 'peripheralState', 'procLog', 'qRoadEncodeData', 'qRoadEncodeIdx', 'qcomGnss', 'radarState', 'roadCameraState', 'roadEncodeData', 'roadEncodeIdx', 'schema', 'sendcan', 'sensorEventDEPRECATED', 'sensorEventsDEPRECATED', 'sentinel', 'temperatureSensor', 'temperatureSensor2', 'testJoystick', 'thumbnail', 'to_dict', 'total_size', 'trafficEventsDEPRECATED', 'ubloxGnss', 'ubloxRaw', 'uiDebug', 'uiLayoutStateDEPRECATED', 'uiNavigationEventDEPRECATED', 'uiPlan', 'uploaderState', 'userFlag', 'valid', 'which', 'wideRoadCameraState', 'wideRoadEncodeData', 'wideRoadEncodeIdx', 'wifiScanDEPRECATED']\n"
     ]
    }
   ],
   "source": [
    "print([attr for attr in dir(qlog_list[0]) if not attr.startswith(\"__\")])"
   ]
  },
  {
   "cell_type": "code",
   "execution_count": 18,
   "metadata": {},
   "outputs": [
    {
     "name": "stdout",
     "output_type": "stream",
     "text": [
      "( logMonoTime = 1151024117684,\n",
      "  carState = (\n",
      "    vEgo = 11.12378,\n",
      "    gas = 0,\n",
      "    gasPressed = false,\n",
      "    brake = 0,\n",
      "    brakePressed = false,\n",
      "    steeringAngleDeg = 0,\n",
      "    steeringTorque = 0,\n",
      "    steeringPressed = false,\n",
      "    cruiseState = (\n",
      "      enabled = false,\n",
      "      speed = 0,\n",
      "      available = false,\n",
      "      speedOffset = 0,\n",
      "      standstill = false,\n",
      "      nonAdaptive = false,\n",
      "      speedCluster = 0 ),\n",
      "    events = [\n",
      "      ( name = carUnrecognized,\n",
      "        enable = false,\n",
      "        noEntry = false,\n",
      "        warning = false,\n",
      "        userDisable = false,\n",
      "        softDisable = false,\n",
      "        immediateDisable = false,\n",
      "        preEnable = false,\n",
      "        permanent = true,\n",
      "        overrideLongitudinal = false,\n",
      "        overrideLateral = false ) ],\n",
      "    gearShifter = unknown,\n",
      "    steeringRateDeg = 0,\n",
      "    aEgo = 0,\n",
      "    vEgoRaw = 11.12378,\n",
      "    standstill = false,\n",
      "    brakeLightsDEPRECATED = false,\n",
      "    leftBlinker = false,\n",
      "    rightBlinker = false,\n",
      "    yawRate = 0,\n",
      "    genericToggle = false,\n",
      "    doorOpen = false,\n",
      "    seatbeltUnlatched = false,\n",
      "    canValid = true,\n",
      "    steeringTorqueEps = 0,\n",
      "    clutchPressed = false,\n",
      "    steeringRateLimitedDEPRECATED = false,\n",
      "    stockAeb = false,\n",
      "    stockFcw = false,\n",
      "    espDisabled = false,\n",
      "    leftBlindspot = false,\n",
      "    rightBlindspot = false,\n",
      "    steerFaultTemporary = false,\n",
      "    steerFaultPermanent = false,\n",
      "    steeringAngleOffsetDeg = 0,\n",
      "    brakeHoldActive = false,\n",
      "    parkingBrake = false,\n",
      "    canTimeout = false,\n",
      "    fuelGauge = 0,\n",
      "    accFaulted = false,\n",
      "    charging = false,\n",
      "    vEgoCluster = 11.12378,\n",
      "    regenBraking = false,\n",
      "    engineRpm = 0,\n",
      "    carFaultedNonCritical = false ),\n",
      "  valid = true )\n"
     ]
    }
   ],
   "source": [
    "print(qlog_list[7])"
   ]
  },
  {
   "cell_type": "code",
   "execution_count": 19,
   "metadata": {},
   "outputs": [],
   "source": [
    "def isiterable(item):\n",
    "    try:\n",
    "        iter(item)\n",
    "        return True\n",
    "    except TypeError:\n",
    "        return False\n",
    "\n",
    "def get_fields(o):\n",
    "    if isinstance(o, list) or isinstance(o, tuple) or isinstance(o, set) or isiterable(o):\n",
    "        o = list(o)\n",
    "        total_attrs = set()\n",
    "        example_obj = dict()\n",
    "        for item in o:\n",
    "            item_attrs = [attr for attr in dir(item) if not attr.startswith(\"__\")]\n",
    "            total_attrs.update(item_attrs)\n",
    "            for attr in item_attrs:\n",
    "                if attr not in example_obj:\n",
    "                    example_obj[attr] = item\n",
    "        \n",
    "        type_dict = dict()\n",
    "        for attr in total_attrs:\n",
    "            type_dict[attr] = get_fields(example_obj[attr])\n",
    "        return type_dict\n",
    "    elif isinstance(o, dict):\n",
    "        total_dict = dict()\n",
    "        for key, value in o.items():\n",
    "            total_dict[key] = get_fields(value)\n",
    "        return total_dict\n",
    "    elif isinstance(o, str) or isinstance(o, int) or isinstance(o, float):\n",
    "        return type(o).__name__\n",
    "    else:\n",
    "        item_attrs = [attr for attr in dir(o) if not attr.startswith(\"__\")]\n",
    "        total_dict = dict()\n",
    "        for attr in item_attrs:\n",
    "            total_dict[attr] = get_fields(getattr(o, attr))\n",
    "        \n",
    "        "
   ]
  },
  {
   "cell_type": "code",
   "execution_count": 20,
   "metadata": {},
   "outputs": [
    {
     "ename": "KjException",
     "evalue": "capnp/dynamic.c++:141: failed: expected isSetInUnion(field); Tried to get() a union member which is not currently initialized.; field.getProto().getName() = accelerometer; schema.getProto().getDisplayName() = log.capnp:Event\nstack: 7f3c8c69b389 7f3c8c69eafa 7f3c8c69f8df 7f3c8c562a3d 7f3c8c52fecd 7f3cddc6d12a 7f3cddbbc3dd 7f3cddd113ae 7f3cddd0d27f 7f3cddbbc51b 7f3cddc30374 7f3cddbc05b7 7f3cddc30374 7f3cddbc05b7 7f3cddc31454 7f3cddbbc885 7f3cddd11510 7f3cddc1a0b7 7f3cddc16cef 7f3cddbb9eac 7f3cddc30374 7f3cddbc05b7 7f3cddc30374 7f3cddbc05b7 7f3cddc30374 7f3cddbc05b7 7f3cddc30374 7f3cddbc05b7 7f3cddc30374 7f3cddbc05b7 7f3cddc30374",
     "output_type": "error",
     "traceback": [
      "\u001b[0;31m---------------------------------------------------------------------------\u001b[0m",
      "\u001b[0;31mKjException\u001b[0m                               Traceback (most recent call last)",
      "Cell \u001b[0;32mIn[20], line 1\u001b[0m\n\u001b[0;32m----> 1\u001b[0m \u001b[43mget_fields\u001b[49m\u001b[43m(\u001b[49m\u001b[43mqlog_list\u001b[49m\u001b[43m)\u001b[49m\n",
      "Cell \u001b[0;32mIn[19], line 22\u001b[0m, in \u001b[0;36mget_fields\u001b[0;34m(o)\u001b[0m\n\u001b[1;32m     20\u001b[0m     type_dict \u001b[38;5;241m=\u001b[39m \u001b[38;5;28mdict\u001b[39m()\n\u001b[1;32m     21\u001b[0m     \u001b[38;5;28;01mfor\u001b[39;00m attr \u001b[38;5;129;01min\u001b[39;00m total_attrs:\n\u001b[0;32m---> 22\u001b[0m         type_dict[attr] \u001b[38;5;241m=\u001b[39m \u001b[43mget_fields\u001b[49m\u001b[43m(\u001b[49m\u001b[43mexample_obj\u001b[49m\u001b[43m[\u001b[49m\u001b[43mattr\u001b[49m\u001b[43m]\u001b[49m\u001b[43m)\u001b[49m\n\u001b[1;32m     23\u001b[0m     \u001b[38;5;28;01mreturn\u001b[39;00m type_dict\n\u001b[1;32m     24\u001b[0m \u001b[38;5;28;01melif\u001b[39;00m \u001b[38;5;28misinstance\u001b[39m(o, \u001b[38;5;28mdict\u001b[39m):\n",
      "Cell \u001b[0;32mIn[19], line 35\u001b[0m, in \u001b[0;36mget_fields\u001b[0;34m(o)\u001b[0m\n\u001b[1;32m     33\u001b[0m total_dict \u001b[38;5;241m=\u001b[39m \u001b[38;5;28mdict\u001b[39m()\n\u001b[1;32m     34\u001b[0m \u001b[38;5;28;01mfor\u001b[39;00m attr \u001b[38;5;129;01min\u001b[39;00m item_attrs:\n\u001b[0;32m---> 35\u001b[0m     total_dict[attr] \u001b[38;5;241m=\u001b[39m get_fields(\u001b[38;5;28mgetattr\u001b[39m(o, attr))\n",
      "File \u001b[0;32m~/code/openpilot-fork/.venv/lib/python3.11/site-packages/capnp/lib/capnp.pyx:1138\u001b[0m, in \u001b[0;36mcapnp.lib.capnp._DynamicStructReader.__getattr__\u001b[0;34m()\u001b[0m\n",
      "File \u001b[0;32m~/code/openpilot-fork/.venv/lib/python3.11/site-packages/capnp/lib/capnp.pyx:1136\u001b[0m, in \u001b[0;36mcapnp.lib.capnp._DynamicStructReader.__getattr__\u001b[0;34m()\u001b[0m\n",
      "File \u001b[0;32m~/code/openpilot-fork/.venv/lib/python3.11/site-packages/capnp/lib/capnp.pyx:1132\u001b[0m, in \u001b[0;36mcapnp.lib.capnp._DynamicStructReader._get\u001b[0;34m()\u001b[0m\n",
      "\u001b[0;31mKjException\u001b[0m: capnp/dynamic.c++:141: failed: expected isSetInUnion(field); Tried to get() a union member which is not currently initialized.; field.getProto().getName() = accelerometer; schema.getProto().getDisplayName() = log.capnp:Event\nstack: 7f3c8c69b389 7f3c8c69eafa 7f3c8c69f8df 7f3c8c562a3d 7f3c8c52fecd 7f3cddc6d12a 7f3cddbbc3dd 7f3cddd113ae 7f3cddd0d27f 7f3cddbbc51b 7f3cddc30374 7f3cddbc05b7 7f3cddc30374 7f3cddbc05b7 7f3cddc31454 7f3cddbbc885 7f3cddd11510 7f3cddc1a0b7 7f3cddc16cef 7f3cddbb9eac 7f3cddc30374 7f3cddbc05b7 7f3cddc30374 7f3cddbc05b7 7f3cddc30374 7f3cddbc05b7 7f3cddc30374 7f3cddbc05b7 7f3cddc30374 7f3cddbc05b7 7f3cddc30374"
     ]
    }
   ],
   "source": [
    "get_fields(qlog_list)"
   ]
  }
 ],
 "metadata": {
  "kernelspec": {
   "display_name": ".venv",
   "language": "python",
   "name": "python3"
  },
  "language_info": {
   "codemirror_mode": {
    "name": "ipython",
    "version": 3
   },
   "file_extension": ".py",
   "mimetype": "text/x-python",
   "name": "python",
   "nbconvert_exporter": "python",
   "pygments_lexer": "ipython3",
   "version": "3.11.4"
  }
 },
 "nbformat": 4,
 "nbformat_minor": 2
}
