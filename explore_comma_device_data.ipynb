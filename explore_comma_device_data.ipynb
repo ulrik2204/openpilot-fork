{
 "cells": [
  {
   "cell_type": "markdown",
   "metadata": {},
   "source": [
    "# Exploring the CommaAI Device data\n",
    "\n",
    "This requires python 3.11 or later because of the usage of the tools folder from Openpilot, which uses 3.11 features"
   ]
  },
  {
   "cell_type": "code",
   "execution_count": 90,
   "metadata": {},
   "outputs": [],
   "source": [
    "import numpy as np\n",
    "import matplotlib.pyplot as plt\n",
    "from PIL import Image\n",
    "import cv2\n",
    "import pandas as pd\n",
    "from pathlib import Path\n",
    "# This is taken from the Openpilot project\n",
    "from openpilot.tools.lib.logreader import LogReader\n",
    "from dataclasses import dataclass\n",
    "from typing import List"
   ]
  },
  {
   "cell_type": "code",
   "execution_count": 91,
   "metadata": {},
   "outputs": [],
   "source": [
    "device_path = Path(\"/home/ulrikro/datasets/CommaAI/2024-01-14--13-01-26--10/\")"
   ]
  },
  {
   "cell_type": "markdown",
   "metadata": {},
   "source": [
    "# About the folder\n",
    "\n",
    "Each folder, marked by their data and a number, contains 5 files: ecamera.hevc, fcamera.hevc, qcamera.ts, qlog, rlog. Each file contains 1 min video. \n",
    "\n",
    "* ecamera.hevc - road facing wide angle camera 1928*1208 at 20Hz\n",
    "* fcamera.hevc - road facing narrow camera 1928*1208 at 20Hz\n",
    "* qcamera.ts - driver facing wide angle camera 526*330 at 20Hz\n",
    "* qlog - some\n",
    "* rlog - some\n",
    "\n"
   ]
  },
  {
   "cell_type": "code",
   "execution_count": 92,
   "metadata": {},
   "outputs": [],
   "source": [
    "ecamera_path = device_path / \"ecamera.hevc\"\n",
    "fcamera_path = device_path / \"fcamera.hevc\"\n",
    "qcamera_path = device_path / \"qcamera.ts\"\n",
    "qlog_path = device_path / \"qlog\"\n",
    "rlog_path = device_path / \"rlog\"\n"
   ]
  },
  {
   "cell_type": "markdown",
   "metadata": {},
   "source": [
    "# Overview of the video files"
   ]
  },
  {
   "cell_type": "code",
   "execution_count": 93,
   "metadata": {},
   "outputs": [],
   "source": [
    "def read_video_frames(file_path: str):\n",
    "    frames = []\n",
    "    video = cv2.VideoCapture(file_path)\n",
    "    while video.isOpened():\n",
    "        ret, frame = video.read()\n",
    "        if not ret:\n",
    "            break\n",
    "        frames.append(frame)\n",
    "    video.release()\n",
    "    return frames"
   ]
  },
  {
   "cell_type": "code",
   "execution_count": 94,
   "metadata": {},
   "outputs": [
    {
     "data": {
      "text/plain": [
       "1200"
      ]
     },
     "execution_count": 94,
     "metadata": {},
     "output_type": "execute_result"
    }
   ],
   "source": [
    "ecamera_frames = read_video_frames(ecamera_path.as_posix())\n",
    "len(ecamera_frames)"
   ]
  },
  {
   "cell_type": "code",
   "execution_count": 95,
   "metadata": {},
   "outputs": [
    {
     "data": {
      "text/plain": [
       "(1208, 1928, 3)"
      ]
     },
     "execution_count": 95,
     "metadata": {},
     "output_type": "execute_result"
    }
   ],
   "source": [
    "ecamera_frames[0].shape"
   ]
  },
  {
   "cell_type": "code",
   "execution_count": 96,
   "metadata": {},
   "outputs": [],
   "source": [
    "# fcamera_frames = read_video_frames(fcamera_path.as_posix())\n",
    "#len(fcamera_frames)"
   ]
  },
  {
   "cell_type": "code",
   "execution_count": 97,
   "metadata": {},
   "outputs": [],
   "source": [
    "# fcamera_frames[0].shape"
   ]
  },
  {
   "cell_type": "code",
   "execution_count": 98,
   "metadata": {},
   "outputs": [
    {
     "data": {
      "text/plain": [
       "1200"
      ]
     },
     "execution_count": 98,
     "metadata": {},
     "output_type": "execute_result"
    }
   ],
   "source": [
    "qcamera_frames = read_video_frames(qcamera_path.as_posix())\n",
    "len(qcamera_frames)"
   ]
  },
  {
   "cell_type": "code",
   "execution_count": 99,
   "metadata": {},
   "outputs": [
    {
     "data": {
      "text/plain": [
       "(330, 526, 3)"
      ]
     },
     "execution_count": 99,
     "metadata": {},
     "output_type": "execute_result"
    }
   ],
   "source": [
    "qcamera_frames[0].shape"
   ]
  },
  {
   "cell_type": "markdown",
   "metadata": {},
   "source": [
    "# Overview of the log files"
   ]
  },
  {
   "cell_type": "code",
   "execution_count": 100,
   "metadata": {},
   "outputs": [],
   "source": [
    "qlog_data = LogReader(qlog_path.as_posix())"
   ]
  },
  {
   "cell_type": "code",
   "execution_count": 101,
   "metadata": {},
   "outputs": [
    {
     "data": {
      "text/plain": [
       "11515"
      ]
     },
     "execution_count": 101,
     "metadata": {},
     "output_type": "execute_result"
    }
   ],
   "source": [
    "qlog_list = list(qlog_data)\n",
    "len(qlog_list)"
   ]
  },
  {
   "cell_type": "markdown",
   "metadata": {},
   "source": [
    "Each iteration throug the log data retruns a capnp.lib.capnp._DynamicStructReader object. \n",
    "\n",
    "capnp is a proto schema parsing library \n",
    "\n",
    "The proto schema seems to be defined in openpilot/common/params.cc\n",
    " \n"
   ]
  },
  {
   "cell_type": "markdown",
   "metadata": {},
   "source": []
  },
  {
   "cell_type": "code",
   "execution_count": 102,
   "metadata": {},
   "outputs": [],
   "source": [
    "@dataclass\n",
    "class CommandEntry:\n",
    "    key: str\n",
    "    value: str\n",
    "\n",
    "@dataclass\n",
    "class Commands:\n",
    "    entries: List[CommandEntry]\n",
    "\n",
    "@dataclass\n",
    "class ParamEntry:\n",
    "    key: str\n",
    "    value: str\n",
    "\n",
    "@dataclass\n",
    "class Params:\n",
    "    entries: List[ParamEntry]\n",
    "\n",
    "@dataclass\n",
    "class InitData:\n",
    "    kernelArgs: List[str]\n",
    "    dongleId: str\n",
    "    deviceType: str\n",
    "    version: str\n",
    "    dirty: bool\n",
    "    gitCommit: str\n",
    "    gitBranch: str\n",
    "    passive: bool\n",
    "    gitRemote: str\n",
    "    kernelVersion: str\n",
    "    params: Params\n",
    "    osVersion: str\n",
    "    commands: Commands\n",
    "\n",
    "@dataclass\n",
    "class LogData:\n",
    "    logMonoTime: int\n",
    "    initData: InitData\n",
    "    valid: bool\n",
    "    # these just include a subset of the data"
   ]
  },
  {
   "cell_type": "code",
   "execution_count": 103,
   "metadata": {},
   "outputs": [],
   "source": [
    "qlog_list: List[LogData] = list(qlog_data)"
   ]
  },
  {
   "cell_type": "code",
   "execution_count": 104,
   "metadata": {},
   "outputs": [
    {
     "name": "stdout",
     "output_type": "stream",
     "text": [
      "['_get', '_get_by_field', '_has', '_has_by_field', '_parent', '_which', '_which_str', 'accelerometer', 'accelerometer2', 'androidGnssDEPRECATED', 'androidLog', 'applanixLocationDEPRECATED', 'applanixRawDEPRECATED', 'as_builder', 'boot', 'cameraOdometry', 'can', 'carControl', 'carParams', 'carState', 'cellInfoDEPRECATED', 'clocks', 'controlsState', 'customReserved0', 'customReserved1', 'customReserved2', 'customReserved3', 'customReserved4', 'customReserved5', 'customReserved6', 'customReserved7', 'customReserved8', 'customReserved9', 'customReservedRawData0', 'customReservedRawData1', 'customReservedRawData2', 'deviceState', 'driverCameraState', 'driverEncodeData', 'driverEncodeIdx', 'driverMonitoringState', 'driverStateDEPRECATED', 'driverStateV2', 'errorLogMessage', 'ethernetDataDEPRECATED', 'featuresDEPRECATED', 'gnssMeasurements', 'gpsLocation', 'gpsLocationExternal', 'gpsNMEA', 'gpsPlannerPlanDEPRECATED', 'gpsPlannerPointsDEPRECATED', 'gyroscope', 'gyroscope2', 'initData', 'is_root', 'kalmanOdometryDEPRECATED', 'lateralPlanDEPRECATED', 'lidarPtsDEPRECATED', 'lightSensor', 'liveCalibration', 'liveEventDEPRECATED', 'liveLocationCorrectedDEPRECATED', 'liveLocationDEPRECATED', 'liveLocationKalman', 'liveLocationKalmanDEPRECATED', 'liveLocationTimingDEPRECATED', 'liveLongitudinalMpcDEPRECATED', 'liveMapDataDEPRECATED', 'liveMpcDEPRECATED', 'liveParameters', 'liveTorqueParameters', 'liveTracks', 'liveUIDEPRECATED', 'livestreamDriverEncodeData', 'livestreamDriverEncodeIdx', 'livestreamRoadEncodeData', 'livestreamRoadEncodeIdx', 'livestreamWideRoadEncodeData', 'livestreamWideRoadEncodeIdx', 'locationDEPRECATED', 'logMessage', 'logMonoTime', 'longitudinalPlan', 'magnetometer', 'managerState', 'mapRenderState', 'microphone', 'model', 'modelV2', 'navInstruction', 'navModel', 'navRoute', 'navStatusDEPRECATED', 'navThumbnail', 'navUpdateDEPRECATED', 'onroadEvents', 'orbFeaturesDEPRECATED', 'orbFeaturesSummaryDEPRECATED', 'orbKeyFrameDEPRECATED', 'orbObservationDEPRECATED', 'orbOdometryDEPRECATED', 'orbslamCorrectionDEPRECATED', 'pandaStateDEPRECATED', 'pandaStates', 'peripheralState', 'procLog', 'qRoadEncodeData', 'qRoadEncodeIdx', 'qcomGnss', 'radarState', 'roadCameraState', 'roadEncodeData', 'roadEncodeIdx', 'schema', 'sendcan', 'sensorEventDEPRECATED', 'sensorEventsDEPRECATED', 'sentinel', 'temperatureSensor', 'temperatureSensor2', 'testJoystick', 'thumbnail', 'to_dict', 'total_size', 'trafficEventsDEPRECATED', 'ubloxGnss', 'ubloxRaw', 'uiDebug', 'uiLayoutStateDEPRECATED', 'uiNavigationEventDEPRECATED', 'uiPlan', 'uploaderState', 'userFlag', 'valid', 'which', 'wideRoadCameraState', 'wideRoadEncodeData', 'wideRoadEncodeIdx', 'wifiScanDEPRECATED']\n"
     ]
    }
   ],
   "source": [
    "print([attr for attr in dir(qlog_list[0]) if not attr.startswith(\"__\")])"
   ]
  },
  {
   "cell_type": "code",
   "execution_count": 105,
   "metadata": {},
   "outputs": [
    {
     "name": "stdout",
     "output_type": "stream",
     "text": [
      "b'{\"alias\": null, \"athena_host\": \"prod-comma-public-athena-0.prod-comma-public-athena.production.svc.cluster.local\", \"device_type\": \"threex\", \"dongle_id\": \"45ba82b7ecf23784\", \"ignore_uploads\": null, \"last_athena_ping\": 1705231623, \"last_gps_accuracy\": null, \"last_gps_bearing\": null, \"last_gps_lat\": null, \"last_gps_lng\": null, \"last_gps_speed\": null, \"last_gps_time\": null, \"public_key\": \"-----BEGIN PUBLIC KEY-----\\\\nMIIBIjANBgkqhkiG9w0BAQEFAAOCAQ8AMIIBCgKCAQEA5tgJB/RQmWgUQlIQBG6H\\\\ncPB65/ZjQJMxeQpZeaPvBrHGmIKybjnirGDgEqlfa1bTzSfXC8LbNu73J9qXbDM6\\\\nKnJ3Zh6M4NAFtAd/g04vWbEhmg/3ff2Abjq2sKolEDIyGBwli16usZEvGBAsuQpt\\\\nElxgVyx1TrLxHux9sZ++5sQce12gkhkiaItT26X7QOvjEwqTjP/LN3E4yUQNbAoq\\\\nhiDpcWgVQDT04HbMqIITvpOjd5sXLXhqr01sqoNVli69SwgjGyaN3eSAx4C2OiFw\\\\nwsc6gED93kOcVJmYeTahpfmJ0zRTgccDPC6eNHoTTVmnrZIhCqnm532a4bDbjN9z\\\\nnQIDAQAB\\\\n-----END PUBLIC KEY-----\\\\n\", \"serial\": \"9e856db5\", \"sim_id\": \"\", \"trial_claimed\": true, \"is_paired\": true, \"eligible_features\": {\"prime\": true, \"prime_data\": true, \"nav\": true}, \"sim_type\": 0, \"prime\": true, \"prime_type\": 2, \"openpilot_version\": \"0.9.5-release\"}'\n"
     ]
    }
   ],
   "source": [
    "print(str(qlog_list[0].initData.params.entries[0].value))"
   ]
  },
  {
   "cell_type": "code",
   "execution_count": 106,
   "metadata": {},
   "outputs": [],
   "source": [
    "def isiterable(item):\n",
    "    try:\n",
    "        iter(item)\n",
    "        return True\n",
    "    except TypeError:\n",
    "        return False\n",
    "def get_fields(o, print_progress=True, depth=0):\n",
    "    if isinstance(o, list) or isinstance(o, tuple) or isinstance(o, set) or isiterable(o):\n",
    "        fields = []\n",
    "        for item in o:\n",
    "            field = get_fields(item, print_progress, depth=depth+1)\n",
    "            fields.append(field)\n",
    "        return fields\n",
    "    elif isinstance(o, dict):\n",
    "        total_dict = dict()\n",
    "        for key, value in o.items():\n",
    "            total_dict[key] = get_fields(value, print_progress, depth=depth+1)\n",
    "        return total_dict\n",
    "    elif isinstance(o, str) or isinstance(o, int) or isinstance(o, float) or isinstance(o, bool) or isinstance(o, bytes) or o is None:\n",
    "        return type(o).__name__\n",
    "    else:\n",
    "        item_attrs = [attr for attr in dir(o) if not attr.startswith(\"_\")]\n",
    "        # print(\"item_attrs\", item_attrs)\n",
    "        total_dict = dict()\n",
    "        progress = 0\n",
    "        for attr in item_attrs:\n",
    "            if print_progress:\n",
    "                progress += 1\n",
    "                print(f\"Progress {depth}: {progress}/{len(item_attrs)} attr={attr}\", end=\"\\r\")\n",
    "            try: \n",
    "                total_dict[attr] = get_fields(getattr(o, attr), print_progress, depth=depth+1)\n",
    "            except Exception:\n",
    "                continue\n",
    "        return total_dict\n",
    "        \n",
    "        "
   ]
  },
  {
   "cell_type": "code",
   "execution_count": 148,
   "metadata": {},
   "outputs": [],
   "source": [
    "import re\n",
    "\n",
    "def parse_capnp_string(s: str):\n",
    "    # Wrap words after = that are not numbers or true of false in quotes\n",
    "    s = re.sub(r'(?<=\\s=\\s)(?!true|false|\\d+)(\\w+)', r'\"\\1\"', s)\n",
    "    # Wrap in quotes and replace = with :\n",
    "    s = re.sub(r\"(\\w+) = \", r'\"\\1\": ', s)\n",
    "\n",
    "    # Replace ( with [ for lists\n",
    "    pattern = r'\\((?:\"[^\"]*\"|\\d+)(?:\\s*,\\s*(?:\"[^\"]*\"|\\d+))*\\)'\n",
    "\n",
    "    def convert(match):\n",
    "        inner_text = match.group(0)[1:-1]  # Remove the outer parentheses\n",
    "        return \"[\" + inner_text + \"]\"  # Surround with square brackets\n",
    "\n",
    "    s = re.sub(pattern, convert, s)\n",
    "\n",
    "    # Replace the rest of the parentheses with curly braces and remove newlines\n",
    "    s = s.replace(\"(\", \"{\").replace(\")\", \"}\").replace(\"\\n\", \"\")\n",
    "    return s"
   ]
  },
  {
   "cell_type": "code",
   "execution_count": 108,
   "metadata": {},
   "outputs": [],
   "source": [
    "# import json\n",
    "# field_json = capnp_to_json(str(qlog_list[0]))\n",
    "# field_json\n",
    "# parse_custom_structure(str(qlog_list[0]))"
   ]
  },
  {
   "cell_type": "code",
   "execution_count": 152,
   "metadata": {},
   "outputs": [
    {
     "ename": "TypeError",
     "evalue": "unbound method _DynamicStructReader.to_dict() needs an argument",
     "output_type": "error",
     "traceback": [
      "\u001b[0;31m---------------------------------------------------------------------------\u001b[0m",
      "\u001b[0;31mTypeError\u001b[0m                                 Traceback (most recent call last)",
      "Cell \u001b[0;32mIn[152], line 1\u001b[0m\n\u001b[0;32m----> 1\u001b[0m \u001b[38;5;28mstr\u001b[39m(\u001b[38;5;28;43mtype\u001b[39;49m\u001b[43m(\u001b[49m\u001b[43mqlog_list\u001b[49m\u001b[43m[\u001b[49m\u001b[38;5;241;43m0\u001b[39;49m\u001b[43m]\u001b[49m\u001b[43m)\u001b[49m\u001b[38;5;241;43m.\u001b[39;49m\u001b[43mto_dict\u001b[49m\u001b[43m(\u001b[49m\u001b[43m)\u001b[49m)\n",
      "\u001b[0;31mTypeError\u001b[0m: unbound method _DynamicStructReader.to_dict() needs an argument"
     ]
    }
   ],
   "source": [
    "str(type(qlog_list[0]).to_dict())"
   ]
  },
  {
   "cell_type": "code",
   "execution_count": 198,
   "metadata": {},
   "outputs": [],
   "source": [
    "import capnp\n",
    "def capnp_to_dict(obj):\n",
    "    \"\"\"\n",
    "    Convert a Cap'n Proto _DynamicStructReader object to a Python dictionary.\n",
    "    This handles nested structures, lists, and basic data types.\n",
    "    \"\"\"\n",
    "    if isinstance(obj, capnp.lib.capnp._DynamicStructReader):\n",
    "        result = {}\n",
    "        for field in list(obj.schema.node.struct.fields):\n",
    "            field_name = field.name\n",
    "            field_value = getattr(obj, field_name)\n",
    "            print(\"name\", field_name)\n",
    "            result[field_name] = capnp_to_dict(field_value)\n",
    "        return result\n",
    "    elif isinstance(obj, capnp.lib.capnp._DynamicListReader):\n",
    "        return [capnp_to_dict(item) for item in obj]\n",
    "    else:\n",
    "        return obj"
   ]
  },
  {
   "cell_type": "code",
   "execution_count": 205,
   "metadata": {},
   "outputs": [
    {
     "data": {
      "text/plain": [
       "'roadEncodeIdx'"
      ]
     },
     "execution_count": 205,
     "metadata": {},
     "output_type": "execute_result"
    }
   ],
   "source": []
  },
  {
   "cell_type": "code",
   "execution_count": 191,
   "metadata": {},
   "outputs": [
    {
     "name": "stdout",
     "output_type": "stream",
     "text": [
      "logMonoTime\n",
      "initData\n",
      "roadCameraState\n",
      "gpsNMEA\n",
      "sensorEventDEPRECATED\n",
      "can\n",
      "deviceState\n",
      "controlsState\n",
      "liveEventDEPRECATED\n",
      "model\n",
      "featuresDEPRECATED\n",
      "sensorEventsDEPRECATED\n",
      "pandaStateDEPRECATED\n",
      "radarState\n",
      "liveUIDEPRECATED\n",
      "roadEncodeIdx\n",
      "liveTracks\n",
      "sendcan\n",
      "logMessage\n",
      "liveCalibration\n",
      "androidLog\n",
      "gpsLocation\n",
      "carState\n",
      "carControl\n",
      "longitudinalPlan\n",
      "liveLocationDEPRECATED\n",
      "ethernetDataDEPRECATED\n",
      "navUpdateDEPRECATED\n",
      "cellInfoDEPRECATED\n",
      "wifiScanDEPRECATED\n",
      "androidGnssDEPRECATED\n",
      "qcomGnss\n",
      "lidarPtsDEPRECATED\n",
      "procLog\n",
      "ubloxGnss\n",
      "clocks\n",
      "liveMpcDEPRECATED\n",
      "liveLongitudinalMpcDEPRECATED\n",
      "navStatusDEPRECATED\n",
      "ubloxRaw\n",
      "gpsPlannerPointsDEPRECATED\n",
      "gpsPlannerPlanDEPRECATED\n",
      "applanixRawDEPRECATED\n",
      "trafficEventsDEPRECATED\n",
      "liveLocationTimingDEPRECATED\n",
      "orbslamCorrectionDEPRECATED\n",
      "liveLocationCorrectedDEPRECATED\n",
      "orbObservationDEPRECATED\n",
      "gpsLocationExternal\n",
      "locationDEPRECATED\n",
      "uiNavigationEventDEPRECATED\n",
      "liveLocationKalmanDEPRECATED\n",
      "testJoystick\n",
      "orbOdometryDEPRECATED\n",
      "orbFeaturesDEPRECATED\n",
      "applanixLocationDEPRECATED\n",
      "orbKeyFrameDEPRECATED\n",
      "uiLayoutStateDEPRECATED\n",
      "orbFeaturesSummaryDEPRECATED\n",
      "driverStateDEPRECATED\n",
      "boot\n",
      "liveParameters\n",
      "liveMapDataDEPRECATED\n",
      "cameraOdometry\n",
      "lateralPlanDEPRECATED\n",
      "kalmanOdometryDEPRECATED\n",
      "thumbnail\n",
      "valid\n",
      "onroadEvents\n",
      "carParams\n",
      "driverCameraState\n",
      "driverMonitoringState\n",
      "liveLocationKalman\n",
      "sentinel\n",
      "wideRoadCameraState\n",
      "modelV2\n",
      "driverEncodeIdx\n",
      "wideRoadEncodeIdx\n",
      "managerState\n",
      "uploaderState\n",
      "peripheralState\n",
      "pandaStates\n",
      "navInstruction\n",
      "navRoute\n",
      "navThumbnail\n",
      "errorLogMessage\n",
      "roadEncodeData\n",
      "driverEncodeData\n",
      "wideRoadEncodeData\n",
      "qRoadEncodeData\n",
      "qRoadEncodeIdx\n",
      "gnssMeasurements\n",
      "driverStateV2\n",
      "userFlag\n",
      "liveTorqueParameters\n",
      "magnetometer\n",
      "lightSensor\n",
      "temperatureSensor\n",
      "accelerometer\n",
      "gyroscope\n",
      "gyroscope2\n",
      "accelerometer2\n",
      "uiDebug\n",
      "microphone\n",
      "navModel\n",
      "mapRenderState\n",
      "uiPlan\n",
      "customReserved0\n",
      "customReserved1\n",
      "customReserved2\n",
      "customReserved3\n",
      "customReserved4\n",
      "customReserved5\n",
      "customReserved6\n",
      "customReserved7\n",
      "customReserved8\n",
      "customReserved9\n",
      "livestreamRoadEncodeIdx\n",
      "livestreamWideRoadEncodeIdx\n",
      "livestreamDriverEncodeIdx\n",
      "livestreamRoadEncodeData\n",
      "livestreamWideRoadEncodeData\n",
      "livestreamDriverEncodeData\n",
      "temperatureSensor2\n",
      "customReservedRawData0\n",
      "customReservedRawData1\n",
      "customReservedRawData2\n"
     ]
    }
   ],
   "source": [
    "for field in list(qlog_list[0].schema.node.struct.fields):\n",
    "    print(field.name)"
   ]
  },
  {
   "cell_type": "code",
   "execution_count": 199,
   "metadata": {},
   "outputs": [
    {
     "name": "stdout",
     "output_type": "stream",
     "text": [
      "name logMonoTime\n",
      "name initData\n",
      "name kernelArgs\n",
      "name gctxDEPRECATED\n",
      "name dongleId\n",
      "name deviceType\n",
      "name version\n",
      "name androidBuildInfo\n",
      "name board\n",
      "name bootloader\n",
      "name brand\n",
      "name device\n",
      "name display\n",
      "name fingerprint\n",
      "name hardware\n",
      "name host\n",
      "name id\n",
      "name manufacturer\n",
      "name model\n",
      "name product\n",
      "name radioVersion\n",
      "name serial\n",
      "name supportedAbis\n",
      "name tags\n",
      "name time\n",
      "name type\n",
      "name user\n",
      "name versionCodename\n",
      "name versionRelease\n",
      "name versionSdk\n",
      "name versionSecurityPatch\n",
      "name androidSensorsDEPRECATED\n",
      "name chffrAndroidExtraDEPRECATED\n",
      "name allCameraCharacteristics\n",
      "name entries\n",
      "name pandaInfo\n",
      "name hasPanda\n",
      "name dongleId\n",
      "name stVersion\n",
      "name espVersion\n",
      "name dirty\n",
      "name gitCommit\n",
      "name gitBranch\n",
      "name passive\n",
      "name gitRemote\n",
      "name iosBuildInfoDEPRECATED\n",
      "name appVersion\n",
      "name appBuild\n",
      "name osVersion\n",
      "name deviceModel\n",
      "name kernelVersion\n",
      "name androidProperties\n",
      "name entries\n",
      "name params\n",
      "name entries\n",
      "name key\n",
      "name value\n",
      "name key\n",
      "name value\n",
      "name key\n",
      "name value\n",
      "name key\n",
      "name value\n",
      "name key\n",
      "name value\n",
      "name key\n",
      "name value\n",
      "name key\n",
      "name value\n",
      "name key\n",
      "name value\n",
      "name key\n",
      "name value\n",
      "name key\n",
      "name value\n",
      "name key\n",
      "name value\n",
      "name key\n",
      "name value\n",
      "name key\n",
      "name value\n",
      "name key\n",
      "name value\n",
      "name key\n",
      "name value\n",
      "name key\n",
      "name value\n",
      "name key\n",
      "name value\n",
      "name key\n",
      "name value\n",
      "name key\n",
      "name value\n",
      "name key\n",
      "name value\n",
      "name key\n",
      "name value\n",
      "name key\n",
      "name value\n",
      "name key\n",
      "name value\n",
      "name key\n",
      "name value\n",
      "name key\n",
      "name value\n",
      "name key\n",
      "name value\n",
      "name key\n",
      "name value\n",
      "name key\n",
      "name value\n",
      "name key\n",
      "name value\n",
      "name key\n",
      "name value\n",
      "name key\n",
      "name value\n",
      "name key\n",
      "name value\n",
      "name key\n",
      "name value\n",
      "name key\n",
      "name value\n",
      "name key\n",
      "name value\n",
      "name key\n",
      "name value\n",
      "name key\n",
      "name value\n",
      "name key\n",
      "name value\n",
      "name key\n",
      "name value\n",
      "name key\n",
      "name value\n",
      "name key\n",
      "name value\n",
      "name key\n",
      "name value\n",
      "name key\n",
      "name value\n",
      "name key\n",
      "name value\n",
      "name key\n",
      "name value\n",
      "name key\n",
      "name value\n",
      "name key\n",
      "name value\n",
      "name key\n",
      "name value\n",
      "name key\n",
      "name value\n",
      "name key\n",
      "name value\n",
      "name key\n",
      "name value\n",
      "name key\n",
      "name value\n",
      "name key\n",
      "name value\n",
      "name key\n",
      "name value\n",
      "name key\n",
      "name value\n",
      "name key\n",
      "name value\n",
      "name key\n",
      "name value\n",
      "name key\n",
      "name value\n",
      "name key\n",
      "name value\n",
      "name key\n",
      "name value\n",
      "name key\n",
      "name value\n",
      "name osVersion\n",
      "name commands\n",
      "name entries\n",
      "name key\n",
      "name value\n",
      "name key\n",
      "name value\n",
      "name key\n",
      "name value\n",
      "name key\n",
      "name value\n",
      "name key\n",
      "name value\n",
      "name key\n",
      "name value\n",
      "name key\n",
      "name value\n",
      "name key\n",
      "name value\n",
      "name key\n",
      "name value\n",
      "name key\n",
      "name value\n",
      "name key\n",
      "name value\n",
      "name key\n",
      "name value\n",
      "name key\n",
      "name value\n",
      "name key\n",
      "name value\n",
      "name key\n",
      "name value\n",
      "name wallTimeNanos\n",
      "name gitCommitDate\n"
     ]
    },
    {
     "ename": "KjException",
     "evalue": "capnp/dynamic.c++:141: failed: expected isSetInUnion(field); Tried to get() a union member which is not currently initialized.; field.getProto().getName() = roadCameraState; schema.getProto().getDisplayName() = log.capnp:Event\nstack: 7f039fb36389 7f039fb39afa 7f039fb3a8df 7f039f9fda3d 7f039f9caecd 7f03f110e12a 7f03f105d3dd 7f03f11b23ae 7f03f11ae27f 7f03f105d51b 7f03f10d1374 7f03f10615b7 7f03f10d1374 7f03f10615b7 7f03f10d2454 7f03f105d885 7f03f11b2510 7f03f10bb0b7 7f03f10b7cef 7f03f105aeac 7f03f10d1374 7f03f10615b7 7f03f10d1374 7f03f10615b7 7f03f10d1374 7f03f10615b7 7f03f10d1374 7f03f10615b7 7f03f10d1374 7f03f10615b7 7f03f10d1374",
     "output_type": "error",
     "traceback": [
      "\u001b[0;31m---------------------------------------------------------------------------\u001b[0m",
      "\u001b[0;31mKjException\u001b[0m                               Traceback (most recent call last)",
      "Cell \u001b[0;32mIn[199], line 1\u001b[0m\n\u001b[0;32m----> 1\u001b[0m \u001b[43mcapnp_to_dict\u001b[49m\u001b[43m(\u001b[49m\u001b[43mqlog_list\u001b[49m\u001b[43m[\u001b[49m\u001b[38;5;241;43m0\u001b[39;49m\u001b[43m]\u001b[49m\u001b[43m)\u001b[49m\n",
      "Cell \u001b[0;32mIn[198], line 11\u001b[0m, in \u001b[0;36mcapnp_to_dict\u001b[0;34m(obj)\u001b[0m\n\u001b[1;32m      9\u001b[0m \u001b[38;5;28;01mfor\u001b[39;00m field \u001b[38;5;129;01min\u001b[39;00m \u001b[38;5;28mlist\u001b[39m(obj\u001b[38;5;241m.\u001b[39mschema\u001b[38;5;241m.\u001b[39mnode\u001b[38;5;241m.\u001b[39mstruct\u001b[38;5;241m.\u001b[39mfields):\n\u001b[1;32m     10\u001b[0m     field_name \u001b[38;5;241m=\u001b[39m field\u001b[38;5;241m.\u001b[39mname\n\u001b[0;32m---> 11\u001b[0m     field_value \u001b[38;5;241m=\u001b[39m \u001b[38;5;28mgetattr\u001b[39m(obj, field_name)\n\u001b[1;32m     12\u001b[0m     \u001b[38;5;28mprint\u001b[39m(\u001b[38;5;124m\"\u001b[39m\u001b[38;5;124mname\u001b[39m\u001b[38;5;124m\"\u001b[39m, field_name)\n\u001b[1;32m     13\u001b[0m     result[field_name] \u001b[38;5;241m=\u001b[39m capnp_to_dict(field_value)\n",
      "File \u001b[0;32m~/code/openpilot-fork/.venv/lib/python3.11/site-packages/capnp/lib/capnp.pyx:1138\u001b[0m, in \u001b[0;36mcapnp.lib.capnp._DynamicStructReader.__getattr__\u001b[0;34m()\u001b[0m\n",
      "File \u001b[0;32m~/code/openpilot-fork/.venv/lib/python3.11/site-packages/capnp/lib/capnp.pyx:1136\u001b[0m, in \u001b[0;36mcapnp.lib.capnp._DynamicStructReader.__getattr__\u001b[0;34m()\u001b[0m\n",
      "File \u001b[0;32m~/code/openpilot-fork/.venv/lib/python3.11/site-packages/capnp/lib/capnp.pyx:1132\u001b[0m, in \u001b[0;36mcapnp.lib.capnp._DynamicStructReader._get\u001b[0;34m()\u001b[0m\n",
      "\u001b[0;31mKjException\u001b[0m: capnp/dynamic.c++:141: failed: expected isSetInUnion(field); Tried to get() a union member which is not currently initialized.; field.getProto().getName() = roadCameraState; schema.getProto().getDisplayName() = log.capnp:Event\nstack: 7f039fb36389 7f039fb39afa 7f039fb3a8df 7f039f9fda3d 7f039f9caecd 7f03f110e12a 7f03f105d3dd 7f03f11b23ae 7f03f11ae27f 7f03f105d51b 7f03f10d1374 7f03f10615b7 7f03f10d1374 7f03f10615b7 7f03f10d2454 7f03f105d885 7f03f11b2510 7f03f10bb0b7 7f03f10b7cef 7f03f105aeac 7f03f10d1374 7f03f10615b7 7f03f10d1374 7f03f10615b7 7f03f10d1374 7f03f10615b7 7f03f10d1374 7f03f10615b7 7f03f10d1374 7f03f10615b7 7f03f10d1374"
     ]
    }
   ],
   "source": [
    "capnp_to_dict(qlog_list[0])"
   ]
  },
  {
   "cell_type": "code",
   "execution_count": 150,
   "metadata": {},
   "outputs": [
    {
     "data": {
      "text/plain": [
       "'{ \"logMonoTime\": 549368898434,  \"initData\": {    \"kernelArgs\": [      \"rcupdate.rcu_expedited=1\",      \"console=ttyMSM0,115200n8\",      \"quiet\",      \"loglevel=3\",      \"earlycon=msm_geni_serial,0xA84000\",      \"androidboot.hardware=qcom\",      \"androidboot.console=ttyMSM0\",      \"video=DSI-1:1080x2160@60e\",      \"ehci-hcd.park=3\",      \"lpm_levels.sleep_disabled=1\",      \"service_locator.enable=1\",      \"androidboot.selinux=permissive\",      \"firmware_class.path=/lib/firmware/updates\",      \"net.ifnames=0\",      \"dyndbg=\\\\\"\\\\\"\",      \"root=/dev/sda6\",      \"androidboot.bootdevice=1d84000.ufshc\",      \"androidboot.serialno=9e856db5\",      \"androidboot.baseband=sda\",      \"msm_drm.dsi_display0=dsi_fhd_ea8074_1080_cmd_display:\",      \"androidboot.slot_suffix=_a\",      \"skip_initramfs\",      \"rootwait\",      \"ro\",      \"init=/sbin/init\" ],    \"dongleId\": \"45ba82b7ecf23784\",    \"deviceType\": \"tizi\",    \"version\": \"0.9.5-release\",    \"dirty\": false,    \"gitCommit\": \"0df64642759d61f59cc6f09b598ddadb7df96459\",    \"gitBranch\": \"release3\",    \"passive\": false,    \"gitRemote\": \"https://github.com/commaai/openpilot.git\",    \"kernelVersion\": \"Linux version 4.9.103+ {batman@workstation-adeeb} {gcc version 8.2.1 20180802 {GNU Toolchain for the A-profile Architecture 8.2-2018-08 {arm-rel-8.23}} } #1 SMP PREEMPT Mon Jul 17 13:41:44 PDT 2023\\\\n\",    \"params\": {      \"entries\": [        { \"key\": \"ApiCache_Device\",          \"value\": \"{\\\\\"alias\\\\\": null, \\\\\"athena_host\\\\\": \\\\\"prod-comma-public-athena-0.prod-comma-public-athena.production.svc.cluster.local\\\\\", \\\\\"device_type\\\\\": \\\\\"threex\\\\\", \\\\\"dongle_id\\\\\": \\\\\"45ba82b7ecf23784\\\\\", \\\\\"ignore_uploads\\\\\": null, \\\\\"last_athena_ping\\\\\": 1705231623, \\\\\"last_gps_accuracy\\\\\": null, \\\\\"last_gps_bearing\\\\\": null, \\\\\"last_gps_lat\\\\\": null, \\\\\"last_gps_lng\\\\\": null, \\\\\"last_gps_speed\\\\\": null, \\\\\"last_gps_time\\\\\": null, \\\\\"public_key\\\\\": \\\\\"-----BEGIN PUBLIC KEY-----\\\\\\\\nMIIBIjANBgkqhkiG9w0BAQEFAAOCAQ8AMIIBCgKCAQEA5tgJB/RQmWgUQlIQBG6H\\\\\\\\ncPB65/ZjQJMxeQpZeaPvBrHGmIKybjnirGDgEqlfa1bTzSfXC8LbNu73J9qXbDM6\\\\\\\\nKnJ3Zh6M4NAFtAd/g04vWbEhmg/3ff2Abjq2sKolEDIyGBwli16usZEvGBAsuQpt\\\\\\\\nElxgVyx1TrLxHux9sZ++5sQce12gkhkiaItT26X7QOvjEwqTjP/LN3E4yUQNbAoq\\\\\\\\nhiDpcWgVQDT04HbMqIITvpOjd5sXLXhqr01sqoNVli69SwgjGyaN3eSAx4C2OiFw\\\\\\\\nwsc6gED93kOcVJmYeTahpfmJ0zRTgccDPC6eNHoTTVmnrZIhCqnm532a4bDbjN9z\\\\\\\\nnQIDAQAB\\\\\\\\n-----END PUBLIC KEY-----\\\\\\\\n\\\\\", \\\\\"serial\\\\\": \\\\\"9e856db5\\\\\", \\\\\"sim_id\\\\\": \\\\\"\\\\\", \\\\\"trial_claimed\\\\\": true, \\\\\"is_paired\\\\\": true, \\\\\"eligible_features\\\\\": {\\\\\"prime\\\\\": true, \\\\\"prime_data\\\\\": true, \\\\\"nav\\\\\": true}, \\\\\"sim_type\\\\\": 0, \\\\\"prime\\\\\": true, \\\\\"prime_type\\\\\": 2, \\\\\"openpilot_version\\\\\": \\\\\"0.9.5-release\\\\\"}\" },        { \"key\": \"ApiCache_NavDestinations\",          \"value\": \"[]\\\\n\" },        {\"key\": \"AthenadPid\", \"value\": \"37190\"},        { \"key\": \"AthenadUploadQueue\",          \"value\": \"[]\" },        { \"key\": \"CalibrationParams\",          \"value\": \"\\\\000\\\\000\\\\000\\\\000\\\\025\\\\000\\\\000\\\\000\\\\000\\\\000\\\\000\\\\000\\\\002\\\\000\\\\001\\\\000\\\\252\\\\036M\\\\3503\\\\000\\\\000\\\\000\\\\022\\\\000\\\\000\\\\000\\\\000\\\\000\\\\000\\\\000\\\\000\\\\000\\\\000\\\\000\\\\002\\\\000\\\\b\\\\000\\\\000d\\\\001\\\\000\\\\000\\\\000\\\\000\\\\0002\\\\000\\\\000\\\\000\\\\000\\\\000\\\\000\\\\000\\\\000\\\\000\\\\000\\\\000\\\\000\\\\000\\\\000\\\\000\\\\000\\\\000\\\\000\\\\000\\\\000\\\\000\\\\000\\\\000\\\\000\\\\000\\\\000\\\\000\\\\000\\\\000\\\\000\\\\000\\\\000\\\\000\\\\000\\\\000\\\\000\\\\000\\\\000\\\\000\\\\r\\\\000\\\\000\\\\000\\\\034\\\\000\\\\000\\\\000\\\\021\\\\000\\\\000\\\\000\\\\034\\\\000\\\\000\\\\000\\\\025\\\\000\\\\000\\\\000\\\\034\\\\000\\\\000\\\\000\\\\031\\\\000\\\\000\\\\000\\\\f\\\\000\\\\000\\\\000a\\\\343\\\\3008\\\\341y\\\\225=\\\\016\\\\341*\\\\274\\\\000\\\\000\\\\000\\\\000hz\\\\033:\\\\264ce;\\\\351$\\\\005<\\\\000\\\\000\\\\000\\\\000}\\\\256\\\\2225v\\\\tH<\\\\370\\\\005+\\\\274\\\\000\\\\000\\\\000\\\\000B\\\\266\\\\247?\\\\000\\\\000\\\\000\\\\000\" },        { \"key\": \"CarBatteryCapacity\",          \"value\": \"29958515\" },        { \"key\": \"CarParamsCache\",          \"value\": \"\\\\000\\\\000\\\\000\\\\000\\\\245\\\\000\\\\000\\\\000\\\\000\\\\000\\\\000\\\\000\\\\021\\\\000\\\\016\\\\000\\\\202\\\\000\\\\000\\\\000\\\\000\\\\000\\\\200\\\\277\\\\000\\\\000\\\\000\\\\000\\\\000\\\\000\\\\000\\\\000\\\\000\\\\200\\\\345D\\\\315\\\\314,@\\\\315\\\\314\\\\254?\\\\000\\\\000PA\\\\000\\\\000\\\\000\\\\000\\\\2178DE\\\\315_DH\\\\2756\\\\233H\\\\000\\\\000\\\\000?\\\\000\\\\000\\\\000\\\\000\\\\000\\\\000\\\\000\\\\000\\\\000\\\\000\\\\000\\\\000\\\\000\\\\000\\\\000\\\\000\\\\000\\\\000\\\\000\\\\000\\\\000\\\\000\\\\000\\\\000\\\\000\\\\000\\\\200?\\\\000\\\\000\\\\001\\\\000\\\\000\\\\000\\\\000\\\\000\\\\315\\\\314L?\\\\000\\\\000\\\\000\\\\000\\\\000\\\\000\\\\000\\\\000\\\\232\\\\231\\\\031>\\\\000\\\\000\\\\000?\\\\000\\\\000\\\\000\\\\300\\\\232\\\\231\\\\031>\\\\000\\\\000\\\\200?\\\\000\\\\000\\\\000\\\\000\\\\002\\\\000\\\\000\\\\000\\\\000\\\\000 A\\\\000\\\\000\\\\200?m\\\\000\\\\000\\\\000*\\\\000\\\\000\\\\0001\\\\000\\\\000\\\\000*\\\\000\\\\000\\\\000\\\\000\\\\000\\\\000\\\\000\\\\000\\\\000\\\\000\\\\000\\\\000\\\\000\\\\000\\\\000\\\\000\\\\000\\\\000\\\\000\\\\000\\\\000\\\\000\\\\000\\\\000\\\\000\\\\000\\\\000\\\\000\\\\000\\\\000\\\\000\\\\000\\\\000\\\\000\\\\000\\\\000\\\\000\\\\000\\\\000\\\\000\\\\000\\\\000\\\\000\\\\000\\\\000\\\\000\\\\000\\\\000\\\\000\\\\000\\\\000\\\\030\\\\000\\\\000\\\\000\\\\001\\\\000\\\\006\\\\000\\\\000\\\\000\\\\000\\\\000\\\\000\\\\000\\\\000\\\\000I\\\\000\\\\000\\\\000\\\\222\\\\000\\\\000\\\\000Q\\\\000\\\\000\\\\000G\\\\001\\\\000\\\\000\\\\000\\\\000\\\\000\\\\000\\\\000\\\\000\\\\000\\\\000\\\\t\\\\002\\\\000\\\\000\\\\027\\\\000\\\\000\\\\000mock\\\\000\\\\000\\\\000\\\\000\\\\000\\\\000\\\\200?\\\\000\\\\000\\\\000\\\\000\\\\035\\\\000\\\\000\\\\000\\\\f\\\\000\\\\000\\\\000\\\\035\\\\000\\\\000\\\\000\\\\f\\\\000\\\\000\\\\000\\\\035\\\\000\\\\000\\\\000\\\\f\\\\000\\\\000\\\\000\\\\035\\\\000\\\\000\\\\000\\\\f\\\\000\\\\000\\\\000\\\\005\\\\000\\\\000\\\\000\\\\f\\\\000\\\\000\\\\000\\\\005\\\\000\\\\000\\\\000\\\\f\\\\000\\\\000\\\\000\\\\000\\\\000\\\\000\\\\000\\\\000\\\\000\\\\000\\\\000\\\\000\\\\000\\\\000\\\\000\\\\000\\\\000\\\\000\\\\000\\\\000\\\\000\\\\000\\\\000\\\\000\\\\000\\\\000\\\\000\\\\000\\\\000\\\\200?\\\\000\\\\000\\\\000\\\\000\\\\000\\\\000\\\\000\\\\000\\\\000\\\\000\\\\000\\\\000\\\\000\\\\000\\\\200?\\\\000\\\\000\\\\000\\\\000mock\\\\000\\\\000\\\\000\\\\00000000000000000000\\\\000\\\\000\\\\000\\\\000\\\\000\\\\000\\\\000 \\\\000\\\\000\\\\000\\\\002\\\\000\\\\003\\\\000\\\\000\\\\000\\\\000\\\\001\\\\324\\\\a\\\\000\\\\000\\\\334\\\\a\\\\000\\\\000\\\\002\\\\000\\\\000\\\\000\\\\225\\\\000\\\\000\\\\000Z\\\\001\\\\000\\\\000\\\\251\\\\000\\\\000\\\\000\\\\016\\\\000\\\\000\\\\000\\\\255\\\\000\\\\000\\\\000B\\\\000\\\\000\\\\000\\\\001\\\\000\\\\000\\\\001\\\\321\\\\a\\\\000\\\\000\\\\331\\\\a\\\\000\\\\000\\\\002\\\\000\\\\000\\\\000\\\\245\\\\000\\\\000\\\\000\\\\352\\\\000\\\\000\\\\000\\\\261\\\\000\\\\000\\\\000\\\\016\\\\000\\\\000\\\\000\\\\265\\\\000\\\\000\\\\000B\\\\000\\\\000\\\\000\\\\003\\\\000\\\\000\\\\001\\\\304\\\\a\\\\000\\\\000\\\\314\\\\a\\\\000\\\\000\\\\002\\\\000\\\\000\\\\000\\\\255\\\\000\\\\000\\\\000z\\\\001\\\\000\\\\000\\\\301\\\\000\\\\000\\\\000\\\\016\\\\000\\\\000\\\\000\\\\305\\\\000\\\\000\\\\000B\\\\000\\\\000\\\\000\\\\002\\\\000\\\\000\\\\001\\\\320\\\\a\\\\000\\\\000\\\\330\\\\a\\\\000\\\\000\\\\002\\\\000\\\\000\\\\000\\\\275\\\\000\\\\000\\\\000\\\\242\\\\001\\\\000\\\\000\\\\325\\\\000\\\\000\\\\000\\\\016\\\\000\\\\000\\\\000\\\\331\\\\000\\\\000\\\\000B\\\\000\\\\000\\\\000\\\\001\\\\000\\\\000\\\\001\\\\321\\\\a\\\\000\\\\000\\\\331\\\\a\\\\000\\\\000\\\\002\\\\000\\\\000\\\\000\\\\321\\\\000\\\\000\\\\000\\\\352\\\\000\\\\000\\\\000\\\\335\\\\000\\\\000\\\\000\\\\016\\\\000\\\\000\\\\000\\\\341\\\\000\\\\000\\\\000B\\\\000\\\\000\\\\000\\\\002\\\\000\\\\000\\\\001\\\\320\\\\a\\\\000\\\\000\\\\330\\\\a\\\\000\\\\000\\\\002\\\\000\\\\000\\\\000\\\\331\\\\000\\\\000\\\\000\\\\242\\\\001\\\\000\\\\000\\\\361\\\\000\\\\000\\\\000\\\\016\\\\000\\\\000\\\\000\\\\365\\\\000\\\\000\\\\000B\\\\000\\\\000\\\\000\\\\003\\\\000\\\\000\\\\000\\\\304\\\\a\\\\000\\\\000\\\\314\\\\a\\\\000\\\\000\\\\002\\\\000\\\\000\\\\000\\\\355\\\\000\\\\000\\\\000z\\\\001\\\\000\\\\000\\\\001\\\\001\\\\000\\\\000\\\\016\\\\000\\\\000\\\\000\\\\005\\\\001\\\\000\\\\000B\\\\000\\\\000\\\\000\\\\002\\\\000\\\\000\\\\000\\\\320\\\\a\\\\000\\\\000\\\\330\\\\a\\\\000\\\\000\\\\002\\\\000\\\\000\\\\000\\\\375\\\\000\\\\000\\\\000\\\\242\\\\001\\\\000\\\\000\\\\025\\\\001\\\\000\\\\000\\\\016\\\\000\\\\000\\\\000\\\\031\\\\001\\\\000\\\\000B\\\\000\\\\000\\\\000\\\\361\\\\000OS  MDPS C 1.00 1.04 56310-XX000 4OEDC104\\\\000\\\\000\\\\000\\\\000\\\\000\\\\001\\\\000\\\\000\\\\000\\\\032\\\\000\\\\000\\\\000\\\\\"\\\\361\\\\000\\\\000\\\\000\\\\000\\\\000\\\\000hyundai\\\\000\\\\361\\\\000OS IEB \\\\003 212 \\\\021\\\\023 58520-K4000\\\\000\\\\000\\\\000\\\\001\\\\000\\\\000\\\\000\\\\032\\\\000\\\\000\\\\000\\\\\"\\\\361\\\\000\\\\000\\\\000\\\\000\\\\000\\\\000hyundai\\\\000\\\\361\\\\000OE2 LKAS AT EUR LHD 1.00 1.00 95740-K4200 200\\\\000\\\\001\\\\000\\\\000\\\\000\\\\032\\\\000\\\\000\\\\000\\\\\"\\\\361\\\\000\\\\000\\\\000\\\\000\\\\000\\\\000hyundai\\\\000\\\\361\\\\000OSev SCC F-CUP      1.00 1.00 99110-K4100         \\\\000\\\\000\\\\000\\\\000\\\\001\\\\000\\\\000\\\\000\\\\032\\\\000\\\\000\\\\000\\\\\"\\\\361\\\\000\\\\000\\\\000\\\\000\\\\000\\\\000hyundai\\\\000\\\\361\\\\000OS IEB \\\\003 212 \\\\021\\\\023 58520-K4000\\\\000\\\\000\\\\000\\\\001\\\\000\\\\000\\\\000:\\\\000\\\\000\\\\000\\\\\"\\\\361\\\\207\\\\361\\\\201\\\\361\\\\000\\\\000hyundai\\\\000\\\\361\\\\000OSev SCC F-CUP      1.00 1.00 99110-K4100         \\\\000\\\\000\\\\000\\\\000\\\\001\\\\000\\\\000\\\\000:\\\\000\\\\000\\\\000\\\\\"\\\\361\\\\207\\\\361\\\\201\\\\361\\\\000\\\\000hyundai\\\\000\\\\361\\\\000OE2 LKAS AT EUR LHD 1.00 1.00 95740-K4200 200\\\\000\\\\001\\\\000\\\\000\\\\000\\\\032\\\\000\\\\000\\\\000\\\\\"\\\\361\\\\000\\\\000\\\\000\\\\000\\\\000\\\\000hyundai\\\\000\\\\361\\\\000OSev SCC F-CUP      1.00 1.00 99110-K4100         \\\\000\\\\000\\\\000\\\\000\\\\001\\\\000\\\\000\\\\000\\\\032\\\\000\\\\000\\\\000\\\\\"\\\\361\\\\000\\\\000\\\\000\\\\000\\\\000\\\\000hyundai\\\\000\\\\004\\\\000\\\\000\\\\000\\\\002\\\\000\\\\000\\\\000\\\\023\\\\000\\\\000\\\\000\\\\000\\\\000\\\\000\\\\000\\\\000\\\\000\\\\000\\\\000\\\\000\\\\000\\\\000\\\\000\" },        { \"key\": \"CarParamsPersistent\",          \"value\": \"\\\\000\\\\000\\\\000\\\\000\\\\245\\\\000\\\\000\\\\000\\\\000\\\\000\\\\000\\\\000\\\\021\\\\000\\\\016\\\\000\\\\202\\\\000\\\\000\\\\000\\\\000\\\\000\\\\200\\\\277\\\\000\\\\000\\\\000\\\\000\\\\000\\\\000\\\\000\\\\000\\\\000\\\\200\\\\345D\\\\315\\\\314,@\\\\315\\\\314\\\\254?\\\\000\\\\000PA\\\\000\\\\000\\\\000\\\\000\\\\2178DE\\\\315_DH\\\\2756\\\\233H\\\\000\\\\000\\\\000?\\\\000\\\\000\\\\000\\\\000\\\\000\\\\000\\\\000\\\\000\\\\000\\\\000\\\\000\\\\000\\\\000\\\\000\\\\000\\\\000\\\\000\\\\000\\\\000\\\\000\\\\000\\\\000\\\\000\\\\000\\\\000\\\\000\\\\200?\\\\000\\\\000\\\\001\\\\000\\\\000\\\\000\\\\000\\\\000\\\\315\\\\314L?\\\\000\\\\000\\\\000\\\\000\\\\000\\\\000\\\\000\\\\000\\\\232\\\\231\\\\031>\\\\000\\\\000\\\\000?\\\\000\\\\000\\\\000\\\\300\\\\232\\\\231\\\\031>\\\\000\\\\000\\\\200?\\\\000\\\\000\\\\000\\\\000\\\\002\\\\000\\\\000\\\\000\\\\000\\\\000 A\\\\000\\\\000\\\\200?m\\\\000\\\\000\\\\000*\\\\000\\\\000\\\\0001\\\\000\\\\000\\\\000*\\\\000\\\\000\\\\000\\\\000\\\\000\\\\000\\\\000\\\\000\\\\000\\\\000\\\\000\\\\000\\\\000\\\\000\\\\000\\\\000\\\\000\\\\000\\\\000\\\\000\\\\000\\\\000\\\\000\\\\000\\\\000\\\\000\\\\000\\\\000\\\\000\\\\000\\\\000\\\\000\\\\000\\\\000\\\\000\\\\000\\\\000\\\\000\\\\000\\\\000\\\\000\\\\000\\\\000\\\\000\\\\000\\\\000\\\\000\\\\000\\\\000\\\\000\\\\000\\\\030\\\\000\\\\000\\\\000\\\\001\\\\000\\\\006\\\\000\\\\000\\\\000\\\\000\\\\000\\\\000\\\\000\\\\000\\\\000I\\\\000\\\\000\\\\000\\\\222\\\\000\\\\000\\\\000Q\\\\000\\\\000\\\\000G\\\\001\\\\000\\\\000\\\\000\\\\000\\\\000\\\\000\\\\000\\\\000\\\\000\\\\000\\\\t\\\\002\\\\000\\\\000\\\\027\\\\000\\\\000\\\\000mock\\\\000\\\\000\\\\000\\\\000\\\\000\\\\000\\\\200?\\\\000\\\\000\\\\000\\\\000\\\\035\\\\000\\\\000\\\\000\\\\f\\\\000\\\\000\\\\000\\\\035\\\\000\\\\000\\\\000\\\\f\\\\000\\\\000\\\\000\\\\035\\\\000\\\\000\\\\000\\\\f\\\\000\\\\000\\\\000\\\\035\\\\000\\\\000\\\\000\\\\f\\\\000\\\\000\\\\000\\\\005\\\\000\\\\000\\\\000\\\\f\\\\000\\\\000\\\\000\\\\005\\\\000\\\\000\\\\000\\\\f\\\\000\\\\000\\\\000\\\\000\\\\000\\\\000\\\\000\\\\000\\\\000\\\\000\\\\000\\\\000\\\\000\\\\000\\\\000\\\\000\\\\000\\\\000\\\\000\\\\000\\\\000\\\\000\\\\000\\\\000\\\\000\\\\000\\\\000\\\\000\\\\000\\\\200?\\\\000\\\\000\\\\000\\\\000\\\\000\\\\000\\\\000\\\\000\\\\000\\\\000\\\\000\\\\000\\\\000\\\\000\\\\200?\\\\000\\\\000\\\\000\\\\000mock\\\\000\\\\000\\\\000\\\\00000000000000000000\\\\000\\\\000\\\\000\\\\000\\\\000\\\\000\\\\000 \\\\000\\\\000\\\\000\\\\002\\\\000\\\\003\\\\000\\\\000\\\\000\\\\000\\\\001\\\\324\\\\a\\\\000\\\\000\\\\334\\\\a\\\\000\\\\000\\\\002\\\\000\\\\000\\\\000\\\\225\\\\000\\\\000\\\\000Z\\\\001\\\\000\\\\000\\\\251\\\\000\\\\000\\\\000\\\\016\\\\000\\\\000\\\\000\\\\255\\\\000\\\\000\\\\000B\\\\000\\\\000\\\\000\\\\001\\\\000\\\\000\\\\001\\\\321\\\\a\\\\000\\\\000\\\\331\\\\a\\\\000\\\\000\\\\002\\\\000\\\\000\\\\000\\\\245\\\\000\\\\000\\\\000\\\\352\\\\000\\\\000\\\\000\\\\261\\\\000\\\\000\\\\000\\\\016\\\\000\\\\000\\\\000\\\\265\\\\000\\\\000\\\\000B\\\\000\\\\000\\\\000\\\\003\\\\000\\\\000\\\\001\\\\304\\\\a\\\\000\\\\000\\\\314\\\\a\\\\000\\\\000\\\\002\\\\000\\\\000\\\\000\\\\255\\\\000\\\\000\\\\000z\\\\001\\\\000\\\\000\\\\301\\\\000\\\\000\\\\000\\\\016\\\\000\\\\000\\\\000\\\\305\\\\000\\\\000\\\\000B\\\\000\\\\000\\\\000\\\\002\\\\000\\\\000\\\\001\\\\320\\\\a\\\\000\\\\000\\\\330\\\\a\\\\000\\\\000\\\\002\\\\000\\\\000\\\\000\\\\275\\\\000\\\\000\\\\000\\\\242\\\\001\\\\000\\\\000\\\\325\\\\000\\\\000\\\\000\\\\016\\\\000\\\\000\\\\000\\\\331\\\\000\\\\000\\\\000B\\\\000\\\\000\\\\000\\\\001\\\\000\\\\000\\\\001\\\\321\\\\a\\\\000\\\\000\\\\331\\\\a\\\\000\\\\000\\\\002\\\\000\\\\000\\\\000\\\\321\\\\000\\\\000\\\\000\\\\352\\\\000\\\\000\\\\000\\\\335\\\\000\\\\000\\\\000\\\\016\\\\000\\\\000\\\\000\\\\341\\\\000\\\\000\\\\000B\\\\000\\\\000\\\\000\\\\002\\\\000\\\\000\\\\001\\\\320\\\\a\\\\000\\\\000\\\\330\\\\a\\\\000\\\\000\\\\002\\\\000\\\\000\\\\000\\\\331\\\\000\\\\000\\\\000\\\\242\\\\001\\\\000\\\\000\\\\361\\\\000\\\\000\\\\000\\\\016\\\\000\\\\000\\\\000\\\\365\\\\000\\\\000\\\\000B\\\\000\\\\000\\\\000\\\\003\\\\000\\\\000\\\\000\\\\304\\\\a\\\\000\\\\000\\\\314\\\\a\\\\000\\\\000\\\\002\\\\000\\\\000\\\\000\\\\355\\\\000\\\\000\\\\000z\\\\001\\\\000\\\\000\\\\001\\\\001\\\\000\\\\000\\\\016\\\\000\\\\000\\\\000\\\\005\\\\001\\\\000\\\\000B\\\\000\\\\000\\\\000\\\\002\\\\000\\\\000\\\\000\\\\320\\\\a\\\\000\\\\000\\\\330\\\\a\\\\000\\\\000\\\\002\\\\000\\\\000\\\\000\\\\375\\\\000\\\\000\\\\000\\\\242\\\\001\\\\000\\\\000\\\\025\\\\001\\\\000\\\\000\\\\016\\\\000\\\\000\\\\000\\\\031\\\\001\\\\000\\\\000B\\\\000\\\\000\\\\000\\\\361\\\\000OS  MDPS C 1.00 1.04 56310-XX000 4OEDC104\\\\000\\\\000\\\\000\\\\000\\\\000\\\\001\\\\000\\\\000\\\\000\\\\032\\\\000\\\\000\\\\000\\\\\"\\\\361\\\\000\\\\000\\\\000\\\\000\\\\000\\\\000hyundai\\\\000\\\\361\\\\000OS IEB \\\\003 212 \\\\021\\\\023 58520-K4000\\\\000\\\\000\\\\000\\\\001\\\\000\\\\000\\\\000\\\\032\\\\000\\\\000\\\\000\\\\\"\\\\361\\\\000\\\\000\\\\000\\\\000\\\\000\\\\000hyundai\\\\000\\\\361\\\\000OE2 LKAS AT EUR LHD 1.00 1.00 95740-K4200 200\\\\000\\\\001\\\\000\\\\000\\\\000\\\\032\\\\000\\\\000\\\\000\\\\\"\\\\361\\\\000\\\\000\\\\000\\\\000\\\\000\\\\000hyundai\\\\000\\\\361\\\\000OSev SCC F-CUP      1.00 1.00 99110-K4100         \\\\000\\\\000\\\\000\\\\000\\\\001\\\\000\\\\000\\\\000\\\\032\\\\000\\\\000\\\\000\\\\\"\\\\361\\\\000\\\\000\\\\000\\\\000\\\\000\\\\000hyundai\\\\000\\\\361\\\\000OS IEB \\\\003 212 \\\\021\\\\023 58520-K4000\\\\000\\\\000\\\\000\\\\001\\\\000\\\\000\\\\000:\\\\000\\\\000\\\\000\\\\\"\\\\361\\\\207\\\\361\\\\201\\\\361\\\\000\\\\000hyundai\\\\000\\\\361\\\\000OSev SCC F-CUP      1.00 1.00 99110-K4100         \\\\000\\\\000\\\\000\\\\000\\\\001\\\\000\\\\000\\\\000:\\\\000\\\\000\\\\000\\\\\"\\\\361\\\\207\\\\361\\\\201\\\\361\\\\000\\\\000hyundai\\\\000\\\\361\\\\000OE2 LKAS AT EUR LHD 1.00 1.00 95740-K4200 200\\\\000\\\\001\\\\000\\\\000\\\\000\\\\032\\\\000\\\\000\\\\000\\\\\"\\\\361\\\\000\\\\000\\\\000\\\\000\\\\000\\\\000hyundai\\\\000\\\\361\\\\000OSev SCC F-CUP      1.00 1.00 99110-K4100         \\\\000\\\\000\\\\000\\\\000\\\\001\\\\000\\\\000\\\\000\\\\032\\\\000\\\\000\\\\000\\\\\"\\\\361\\\\000\\\\000\\\\000\\\\000\\\\000\\\\000hyundai\\\\000\\\\004\\\\000\\\\000\\\\000\\\\002\\\\000\\\\000\\\\000\\\\023\\\\000\\\\000\\\\000\\\\000\\\\000\\\\000\\\\000\\\\000\\\\000\\\\000\\\\000\\\\000\\\\000\\\\000\\\\000\" },        { \"key\": \"CarParamsPrevRoute\",          \"value\": \"\\\\000\\\\000\\\\000\\\\000\\\\245\\\\000\\\\000\\\\000\\\\000\\\\000\\\\000\\\\000\\\\021\\\\000\\\\016\\\\000\\\\202\\\\000\\\\000\\\\000\\\\000\\\\000\\\\200\\\\277\\\\000\\\\000\\\\000\\\\000\\\\000\\\\000\\\\000\\\\000\\\\000\\\\200\\\\345D\\\\315\\\\314,@\\\\315\\\\314\\\\254?\\\\000\\\\000PA\\\\000\\\\000\\\\000\\\\000\\\\2178DE\\\\315_DH\\\\2756\\\\233H\\\\000\\\\000\\\\000?\\\\000\\\\000\\\\000\\\\000\\\\000\\\\000\\\\000\\\\000\\\\000\\\\000\\\\000\\\\000\\\\000\\\\000\\\\000\\\\000\\\\000\\\\000\\\\000\\\\000\\\\000\\\\000\\\\000\\\\000\\\\000\\\\000\\\\200?\\\\000\\\\000\\\\001\\\\000\\\\000\\\\000\\\\000\\\\000\\\\315\\\\314L?\\\\000\\\\000\\\\000\\\\000\\\\000\\\\000\\\\000\\\\000\\\\232\\\\231\\\\031>\\\\000\\\\000\\\\000?\\\\000\\\\000\\\\000\\\\300\\\\232\\\\231\\\\031>\\\\000\\\\000\\\\200?\\\\000\\\\000\\\\000\\\\000\\\\002\\\\000\\\\000\\\\000\\\\000\\\\000 A\\\\000\\\\000\\\\200?m\\\\000\\\\000\\\\000*\\\\000\\\\000\\\\0001\\\\000\\\\000\\\\000*\\\\000\\\\000\\\\000\\\\000\\\\000\\\\000\\\\000\\\\000\\\\000\\\\000\\\\000\\\\000\\\\000\\\\000\\\\000\\\\000\\\\000\\\\000\\\\000\\\\000\\\\000\\\\000\\\\000\\\\000\\\\000\\\\000\\\\000\\\\000\\\\000\\\\000\\\\000\\\\000\\\\000\\\\000\\\\000\\\\000\\\\000\\\\000\\\\000\\\\000\\\\000\\\\000\\\\000\\\\000\\\\000\\\\000\\\\000\\\\000\\\\000\\\\000\\\\000\\\\030\\\\000\\\\000\\\\000\\\\001\\\\000\\\\006\\\\000\\\\000\\\\000\\\\000\\\\000\\\\000\\\\000\\\\000\\\\000I\\\\000\\\\000\\\\000\\\\222\\\\000\\\\000\\\\000Q\\\\000\\\\000\\\\000G\\\\001\\\\000\\\\000\\\\000\\\\000\\\\000\\\\000\\\\000\\\\000\\\\000\\\\000\\\\t\\\\002\\\\000\\\\000\\\\027\\\\000\\\\000\\\\000mock\\\\000\\\\000\\\\000\\\\000\\\\000\\\\000\\\\200?\\\\000\\\\000\\\\000\\\\000\\\\035\\\\000\\\\000\\\\000\\\\f\\\\000\\\\000\\\\000\\\\035\\\\000\\\\000\\\\000\\\\f\\\\000\\\\000\\\\000\\\\035\\\\000\\\\000\\\\000\\\\f\\\\000\\\\000\\\\000\\\\035\\\\000\\\\000\\\\000\\\\f\\\\000\\\\000\\\\000\\\\005\\\\000\\\\000\\\\000\\\\f\\\\000\\\\000\\\\000\\\\005\\\\000\\\\000\\\\000\\\\f\\\\000\\\\000\\\\000\\\\000\\\\000\\\\000\\\\000\\\\000\\\\000\\\\000\\\\000\\\\000\\\\000\\\\000\\\\000\\\\000\\\\000\\\\000\\\\000\\\\000\\\\000\\\\000\\\\000\\\\000\\\\000\\\\000\\\\000\\\\000\\\\000\\\\200?\\\\000\\\\000\\\\000\\\\000\\\\000\\\\000\\\\000\\\\000\\\\000\\\\000\\\\000\\\\000\\\\000\\\\000\\\\200?\\\\000\\\\000\\\\000\\\\000mock\\\\000\\\\000\\\\000\\\\00000000000000000000\\\\000\\\\000\\\\000\\\\000\\\\000\\\\000\\\\000 \\\\000\\\\000\\\\000\\\\002\\\\000\\\\003\\\\000\\\\000\\\\000\\\\000\\\\001\\\\324\\\\a\\\\000\\\\000\\\\334\\\\a\\\\000\\\\000\\\\002\\\\000\\\\000\\\\000\\\\225\\\\000\\\\000\\\\000Z\\\\001\\\\000\\\\000\\\\251\\\\000\\\\000\\\\000\\\\016\\\\000\\\\000\\\\000\\\\255\\\\000\\\\000\\\\000B\\\\000\\\\000\\\\000\\\\001\\\\000\\\\000\\\\001\\\\321\\\\a\\\\000\\\\000\\\\331\\\\a\\\\000\\\\000\\\\002\\\\000\\\\000\\\\000\\\\245\\\\000\\\\000\\\\000\\\\352\\\\000\\\\000\\\\000\\\\261\\\\000\\\\000\\\\000\\\\016\\\\000\\\\000\\\\000\\\\265\\\\000\\\\000\\\\000B\\\\000\\\\000\\\\000\\\\003\\\\000\\\\000\\\\001\\\\304\\\\a\\\\000\\\\000\\\\314\\\\a\\\\000\\\\000\\\\002\\\\000\\\\000\\\\000\\\\255\\\\000\\\\000\\\\000z\\\\001\\\\000\\\\000\\\\301\\\\000\\\\000\\\\000\\\\016\\\\000\\\\000\\\\000\\\\305\\\\000\\\\000\\\\000B\\\\000\\\\000\\\\000\\\\002\\\\000\\\\000\\\\001\\\\320\\\\a\\\\000\\\\000\\\\330\\\\a\\\\000\\\\000\\\\002\\\\000\\\\000\\\\000\\\\275\\\\000\\\\000\\\\000\\\\242\\\\001\\\\000\\\\000\\\\325\\\\000\\\\000\\\\000\\\\016\\\\000\\\\000\\\\000\\\\331\\\\000\\\\000\\\\000B\\\\000\\\\000\\\\000\\\\001\\\\000\\\\000\\\\001\\\\321\\\\a\\\\000\\\\000\\\\331\\\\a\\\\000\\\\000\\\\002\\\\000\\\\000\\\\000\\\\321\\\\000\\\\000\\\\000\\\\352\\\\000\\\\000\\\\000\\\\335\\\\000\\\\000\\\\000\\\\016\\\\000\\\\000\\\\000\\\\341\\\\000\\\\000\\\\000B\\\\000\\\\000\\\\000\\\\002\\\\000\\\\000\\\\001\\\\320\\\\a\\\\000\\\\000\\\\330\\\\a\\\\000\\\\000\\\\002\\\\000\\\\000\\\\000\\\\331\\\\000\\\\000\\\\000\\\\242\\\\001\\\\000\\\\000\\\\361\\\\000\\\\000\\\\000\\\\016\\\\000\\\\000\\\\000\\\\365\\\\000\\\\000\\\\000B\\\\000\\\\000\\\\000\\\\003\\\\000\\\\000\\\\000\\\\304\\\\a\\\\000\\\\000\\\\314\\\\a\\\\000\\\\000\\\\002\\\\000\\\\000\\\\000\\\\355\\\\000\\\\000\\\\000z\\\\001\\\\000\\\\000\\\\001\\\\001\\\\000\\\\000\\\\016\\\\000\\\\000\\\\000\\\\005\\\\001\\\\000\\\\000B\\\\000\\\\000\\\\000\\\\002\\\\000\\\\000\\\\000\\\\320\\\\a\\\\000\\\\000\\\\330\\\\a\\\\000\\\\000\\\\002\\\\000\\\\000\\\\000\\\\375\\\\000\\\\000\\\\000\\\\242\\\\001\\\\000\\\\000\\\\025\\\\001\\\\000\\\\000\\\\016\\\\000\\\\000\\\\000\\\\031\\\\001\\\\000\\\\000B\\\\000\\\\000\\\\000\\\\361\\\\000OS  MDPS C 1.00 1.04 56310-XX000 4OEDC104\\\\000\\\\000\\\\000\\\\000\\\\000\\\\001\\\\000\\\\000\\\\000\\\\032\\\\000\\\\000\\\\000\\\\\"\\\\361\\\\000\\\\000\\\\000\\\\000\\\\000\\\\000hyundai\\\\000\\\\361\\\\000OS IEB \\\\003 212 \\\\021\\\\023 58520-K4000\\\\000\\\\000\\\\000\\\\001\\\\000\\\\000\\\\000\\\\032\\\\000\\\\000\\\\000\\\\\"\\\\361\\\\000\\\\000\\\\000\\\\000\\\\000\\\\000hyundai\\\\000\\\\361\\\\000OE2 LKAS AT EUR LHD 1.00 1.00 95740-K4200 200\\\\000\\\\001\\\\000\\\\000\\\\000\\\\032\\\\000\\\\000\\\\000\\\\\"\\\\361\\\\000\\\\000\\\\000\\\\000\\\\000\\\\000hyundai\\\\000\\\\361\\\\000OSev SCC F-CUP      1.00 1.00 99110-K4100         \\\\000\\\\000\\\\000\\\\000\\\\001\\\\000\\\\000\\\\000\\\\032\\\\000\\\\000\\\\000\\\\\"\\\\361\\\\000\\\\000\\\\000\\\\000\\\\000\\\\000hyundai\\\\000\\\\361\\\\000OS IEB \\\\003 212 \\\\021\\\\023 58520-K4000\\\\000\\\\000\\\\000\\\\001\\\\000\\\\000\\\\000:\\\\000\\\\000\\\\000\\\\\"\\\\361\\\\207\\\\361\\\\201\\\\361\\\\000\\\\000hyundai\\\\000\\\\361\\\\000OSev SCC F-CUP      1.00 1.00 99110-K4100         \\\\000\\\\000\\\\000\\\\000\\\\001\\\\000\\\\000\\\\000:\\\\000\\\\000\\\\000\\\\\"\\\\361\\\\207\\\\361\\\\201\\\\361\\\\000\\\\000hyundai\\\\000\\\\361\\\\000OE2 LKAS AT EUR LHD 1.00 1.00 95740-K4200 200\\\\000\\\\001\\\\000\\\\000\\\\000\\\\032\\\\000\\\\000\\\\000\\\\\"\\\\361\\\\000\\\\000\\\\000\\\\000\\\\000\\\\000hyundai\\\\000\\\\361\\\\000OSev SCC F-CUP      1.00 1.00 99110-K4100         \\\\000\\\\000\\\\000\\\\000\\\\001\\\\000\\\\000\\\\000\\\\032\\\\000\\\\000\\\\000\\\\\"\\\\361\\\\000\\\\000\\\\000\\\\000\\\\000\\\\000hyundai\\\\000\\\\004\\\\000\\\\000\\\\000\\\\002\\\\000\\\\000\\\\000\\\\023\\\\000\\\\000\\\\000\\\\000\\\\000\\\\000\\\\000\\\\000\\\\000\\\\000\\\\000\\\\000\\\\000\\\\000\\\\000\" },        { \"key\": \"CompletedTrainingVersion\",          \"value\": \"0.2.0\" },        { \"key\": \"CurrentBootlog\",          \"value\": \"2024-01-14--12-52-36\" },        { \"key\": \"DisengageOnAccelerator\",          \"value\": \"0\" },        { \"key\": \"DongleId\",          \"value\": \"45ba82b7ecf23784\" },        {\"key\": \"GitBranch\", \"value\": \"release3\"},        { \"key\": \"GitCommit\",          \"value\": \"0df64642759d61f59cc6f09b598ddadb7df96459\" },        {\"key\": \"GitDiff\", \"value\": \"\"},        { \"key\": \"GitRemote\",          \"value\": \"https://github.com/commaai/openpilot.git\" },        { \"key\": \"GithubSshKeys\",          \"value\": \"ssh-rsa AAAAB3NzaC1yc2EAAAABJQAAAQEAwNyuPzptauatR/HP7WpzJTjGaLaQvGBP90XQ318/fGzGlSO4mnSn6vnYzxxR4qrNnmhYyD4t6kriyqU1aFLibbdkNsWt64gFPkNlkxuvtgShRVfCQrJuKuFOx/jWWrYAoWsnp31Ez3IGFxiNfK7Vs1qfhFlrhbjf4Lg4owcaga51reDZnE3y23LnWu+XAL3THnthhB9gEsi88LkanR7PK6P6EmDqjkvr+3hS5RVtyCAo7SqXy2YiZ7ZyF3SZvYiaScEL5Rj/F5eNQkEm5FXObWsS8kET5NmWFDp8tVk4A5qqIbOpSwQxGg9wT0gAIX9hYWsnurvMieOvPyjGST4nCQ==\\\\nssh-rsa AAAAB3NzaC1yc2EAAAADAQABAAABAQC7jDnPa11tjBi4j6ei6dy01FNdu3BaMARcfao2XUmCWXwmK9qXmUiVXk7/GDAKt+1zJCze8M02Ex27USGjnNBcmg6CaJlkDwg1ROluU4pzZWEWbKlGZIxw1n8nJ6pTr+C9DgUv1dbID5TVoF1Q48/Xi8YH5u4JcwwITNX6wNdfr7mYKcwvXcCI820B/tmOZyvS4A0F3gVj4gQscmAI79+X0VLUuSjAXUV5efX7Kkwc1OwNf+zKDhV9ztevDZjFdjYLT4FgTHXVfZtUJf3LtKBn8/zYoj83gl2F7v6/fxIEk3nmyc2yjTu4o1MStvVJbqiOoZ0HkpvT43lgk8vWcdM5\\\\nssh-rsa AAAAB3NzaC1yc2EAAAADAQABAAABAQDVeYntht3FvnUA7A0b6d7HkIVwc21hhHUm436KszfSviLn5XAcAjmWqZP3IdLjahxXGosezEp4CxmpR0h4cEKE6/USTTtUndol2P3SzB6IXyE3RnSWYtJ/qNE6yVRVlBV1qexxN4dIKdKXKNU6a3U+rX/DVNJ6elVnW/aSj9EePP8ATHMlWgdVozHJLCWhyfahBhnj72Re2BWsxVjNlMnVmXb/Bn++dAjYKCBfZuDAvPidaDes8XyWBz0ExYcQ/MPAmZEtrKuAw4gaqRvRzPcsg0Eu6/NX1hQVt6pi7l0cmF+v+HGUtna+gLCK6C+Q+w4kSlh7PTfH0eWonpt2bCdH\\\\nssh-rsa AAAAB3NzaC1yc2EAAAADAQABAAABgQCsVsfxwUM2QlrsVNI/j41VrDQdrHWfM6lG9ay4rRSc9I3s1cwLW+85NoOWXzmwtYt12/fk7DUKgNFlTJBXKqPHuovo+srWZNYFADJ1/igAn1qUjgJ+hNjSsVXnRqCZSTVwCEniGq12avUrDUQu1MGlR4Se+lJrR5mojsph9DOJ2mzV8bNaveKJ6Y5f8g8ZeztoIoMnQ5S7rBOC4WaSA4fJpKVkkO4vfd4NYrq27qOWVueg3k13AN9QVqpRZbmGxwkifpR4CSw1vTtZzRsDVUewzwjd1lxXfi75D3GPbGIRalZJL4lpH78XUNGUSBcwPcOCkbanpcilsz5s4Xqz1iUh+DdCYiFEGsn4FnfssPpDre/GwRDaIg9rQuGjo1PvGojCp3zZmfunMlPy8PK983JbLP6IQgUgvJjwCQn9gYq9tsnNrX4uNRSMlmQEeHtKwoa7F7BgpRtD14+VdMzQxlprkgsR8joAbOa5HlRpU5vJZp6nPCa64SAH9vj66Jt4qB8=\\\\n\" },        {\"key\": \"GithubUsername\", \"value\": \"gkiss1977\"},        {\"key\": \"GsmMetered\", \"value\": \"1\"},        {\"key\": \"GsmRoaming\", \"value\": \"1\"},        {\"key\": \"HardwareSerial\", \"value\": \"9e856db5\"},        {\"key\": \"HasAcceptedTerms\", \"value\": \"2\"},        { \"key\": \"IMEI\",          \"value\": \"865326061682640\" },        { \"key\": \"InstallDate\",          \"value\": \"2024-01-05T18:13:03.656804\" },        {\"key\": \"IsEngaged\", \"value\": \"0\"},        {\"key\": \"IsMetric\", \"value\": \"1\"},        {\"key\": \"IsOffroad\", \"value\": \"0\"},        {\"key\": \"IsOnroad\", \"value\": \"1\"},        {\"key\": \"IsReleaseBranch\", \"value\": \"1\"},        {\"key\": \"IsRhdDetected\", \"value\": \"0\"},        {\"key\": \"IsTestedBranch\", \"value\": \"1\"},        {\"key\": \"LanguageSetting\", \"value\": \"main_en\"},        { \"key\": \"LastGPSPosition\",          \"value\": \"{\\\\\"latitude\\\\\": 63.366939266604454, \\\\\"longitude\\\\\": 10.376058235687614, \\\\\"altitude\\\\\": 177.395881942853720}\" },        { \"key\": \"LastOffroadStatusPacket\",          \"value\": \"{\\\\\"count\\\\\": 1041, \\\\\"pandaStates\\\\\": [{\\\\\"voltage\\\\\": 11671, \\\\\"current\\\\\": 0, \\\\\"ignitionLine\\\\\": true, \\\\\"controlsAllowed\\\\\": false, \\\\\"gasInterceptorDetected\\\\\": false, \\\\\"rxBufferOverflow\\\\\": 0, \\\\\"txBufferOverflow\\\\\": 0, \\\\\"gmlanSendErrs\\\\\": 0, \\\\\"pandaType\\\\\": \\\\\"tres\\\\\", \\\\\"ignitionCan\\\\\": false, \\\\\"safetyModel\\\\\": \\\\\"noOutput\\\\\", \\\\\"faultStatus\\\\\": \\\\\"none\\\\\", \\\\\"powerSaveEnabled\\\\\": false, \\\\\"uptime\\\\\": 525, \\\\\"faults\\\\\": [], \\\\\"safetyRxInvalid\\\\\": 0, \\\\\"harnessStatus\\\\\": \\\\\"normal\\\\\", \\\\\"heartbeatLost\\\\\": false, \\\\\"alternativeExperience\\\\\": 1, \\\\\"safetyTxBlocked\\\\\": 0, \\\\\"interruptLoad\\\\\": 0.028171226382255554, \\\\\"safetyParam\\\\\": 0, \\\\\"fanPower\\\\\": 0, \\\\\"canState0\\\\\": {\\\\\"busOff\\\\\": false, \\\\\"busOffCnt\\\\\": 0, \\\\\"errorWarning\\\\\": false, \\\\\"errorPassive\\\\\": false, \\\\\"lastError\\\\\": \\\\\"noError\\\\\", \\\\\"lastStoredError\\\\\": \\\\\"stuffError\\\\\", \\\\\"lastDataError\\\\\": \\\\\"noChange\\\\\", \\\\\"lastDataStoredError\\\\\": \\\\\"noError\\\\\", \\\\\"receiveErrorCnt\\\\\": 0, \\\\\"transmitErrorCnt\\\\\": 0, \\\\\"totalErrorCnt\\\\\": 1, \\\\\"totalTxLostCnt\\\\\": 0, \\\\\"totalRxLostCnt\\\\\": 0, \\\\\"totalTxCnt\\\\\": 105, \\\\\"totalRxCnt\\\\\": 918387, \\\\\"totalFwdCnt\\\\\": 0, \\\\\"canSpeed\\\\\": 500, \\\\\"canDataSpeed\\\\\": 2000, \\\\\"canfdEnabled\\\\\": false, \\\\\"brsEnabled\\\\\": false, \\\\\"canfdNonIso\\\\\": false, \\\\\"irq0CallRate\\\\\": 868, \\\\\"irq1CallRate\\\\\": 0, \\\\\"irq2CallRate\\\\\": 0, \\\\\"canCoreResetCnt\\\\\": 0}, \\\\\"canState1\\\\\": {\\\\\"busOff\\\\\": false, \\\\\"busOffCnt\\\\\": 0, \\\\\"errorWarning\\\\\": false, \\\\\"errorPassive\\\\\": false, \\\\\"lastError\\\\\": \\\\\"noError\\\\\", \\\\\"lastStoredError\\\\\": \\\\\"stuffError\\\\\", \\\\\"lastDataError\\\\\": \\\\\"noChange\\\\\", \\\\\"lastDataStoredError\\\\\": \\\\\"noError\\\\\", \\\\\"receiveErrorCnt\\\\\": 0, \\\\\"transmitErrorCnt\\\\\": 0, \\\\\"totalErrorCnt\\\\\": 4, \\\\\"totalTxLostCnt\\\\\": 0, \\\\\"totalRxLostCnt\\\\\": 0, \\\\\"totalTxCnt\\\\\": 109, \\\\\"totalRxCnt\\\\\": 738239, \\\\\"totalFwdCnt\\\\\": 0, \\\\\"canSpeed\\\\\": 500, \\\\\"canDataSpeed\\\\\": 2000, \\\\\"canfdEnabled\\\\\": false, \\\\\"brsEnabled\\\\\": false, \\\\\"canfdNonIso\\\\\": false, \\\\\"irq0CallRate\\\\\": 10, \\\\\"irq1CallRate\\\\\": 0, \\\\\"irq2CallRate\\\\\": 0, \\\\\"canCoreResetCnt\\\\\": 0}, \\\\\"canState2\\\\\": {\\\\\"busOff\\\\\": false, \\\\\"busOffCnt\\\\\": 0, \\\\\"errorWarning\\\\\": false, \\\\\"errorPassive\\\\\": false, \\\\\"lastError\\\\\": \\\\\"noError\\\\\", \\\\\"lastStoredError\\\\\": \\\\\"formError\\\\\", \\\\\"lastDataError\\\\\": \\\\\"noChange\\\\\", \\\\\"lastDataStoredError\\\\\": \\\\\"noError\\\\\", \\\\\"receiveErrorCnt\\\\\": 0, \\\\\"transmitErrorCnt\\\\\": 0, \\\\\"totalErrorCnt\\\\\": 8, \\\\\"totalTxLostCnt\\\\\": 0, \\\\\"totalRxLostCnt\\\\\": 0, \\\\\"totalTxCnt\\\\\": 0, \\\\\"totalRxCnt\\\\\": 839500, \\\\\"totalFwdCnt\\\\\": 0, \\\\\"canSpeed\\\\\": 500, \\\\\"canDataSpeed\\\\\": 2000, \\\\\"canfdEnabled\\\\\": false, \\\\\"brsEnabled\\\\\": false, \\\\\"canfdNonIso\\\\\": false, \\\\\"irq0CallRate\\\\\": 129, \\\\\"irq1CallRate\\\\\": 0, \\\\\"irq2CallRate\\\\\": 0, \\\\\"canCoreResetCnt\\\\\": 0}, \\\\\"safetyRxChecksInvalid\\\\\": false, \\\\\"spiChecksumErrorCount\\\\\": 54, \\\\\"fanStallCount\\\\\": 0, \\\\\"sbu1Voltage\\\\\": 0.2919999957084656, \\\\\"sbu2Voltage\\\\\": 0.0860000029206276}], \\\\\"peripheralState\\\\\": {\\\\\"pandaType\\\\\": \\\\\"tres\\\\\", \\\\\"voltage\\\\\": 11829, \\\\\"current\\\\\": 110, \\\\\"fanSpeedRpm\\\\\": 0}, \\\\\"location\\\\\": null, \\\\\"deviceState\\\\\": {\\\\\"deviceState\\\\\": {\\\\\"freeSpacePercent\\\\\": 65.77743530273438, \\\\\"fanSpeedPercentDesired\\\\\": 30, \\\\\"started\\\\\": true, \\\\\"startedMonoTime\\\\\": 549157996143, \\\\\"thermalStatus\\\\\": \\\\\"green\\\\\", \\\\\"memoryUsagePercent\\\\\": 43, \\\\\"networkType\\\\\": \\\\\"none\\\\\", \\\\\"offroadPowerUsageUwh\\\\\": 0, \\\\\"networkStrength\\\\\": \\\\\"unknown\\\\\", \\\\\"carBatteryCapacityUwh\\\\\": 29964031, \\\\\"cpuTempC\\\\\": [48.20000076293945, 47.900001525878906, 47.900001525878906, 47.29999923706055, 47.599998474121094, 46.900001525878906, 47.29999923706055, 47.29999923706055], \\\\\"gpuTempC\\\\\": [46.599998474121094, 47.900001525878906], \\\\\"memoryTempC\\\\\": 47.400001525878906, \\\\\"ambientTempC\\\\\": 44.70899963378906, \\\\\"networkInfo\\\\\": {\\\\\"technology\\\\\": \\\\\"FDD LTE\\\\\", \\\\\"operator\\\\\": \\\\\"24202\\\\\", \\\\\"band\\\\\": \\\\\"LTE BAND 3\\\\\", \\\\\"channel\\\\\": 100, \\\\\"extra\\\\\": \\\\\"LIMSRV,LTE,FDD,242,02,1EBA917,166,100,1,5,5,91B,-79,-13,-46,13,48\\\\\", \\\\\"state\\\\\": \\\\\"FAILED\\\\\"}, \\\\\"lastAthenaPingTime\\\\\": 0, \\\\\"gpuUsagePercent\\\\\": 0, \\\\\"cpuUsagePercent\\\\\": [9, 12, 2, 0, 16], \\\\\"nvmeTempC\\\\\": [], \\\\\"modemTempC\\\\\": [42.0, 40.0, 38.0], \\\\\"screenBrightnessPercent\\\\\": 49, \\\\\"pmicTempC\\\\\": [47.44599914550781, 37.0], \\\\\"powerDrawW\\\\\": 2.2036499977111816, \\\\\"networkMetered\\\\\": false, \\\\\"somPowerDrawW\\\\\": 0.7572466135025024, \\\\\"networkStats\\\\\": {\\\\\"wwanTx\\\\\": -1, \\\\\"wwanRx\\\\\": -1}, \\\\\"maxTempC\\\\\": 48.761837005615234}, \\\\\"logMonoTime\\\\\": 549011183747, \\\\\"valid\\\\\": true}}\" },        { \"key\": \"LastUpdateException\",          \"value\": \"command failed: [\\\\\\'git\\\\\\', \\\\\\'ls-remote\\\\\\', \\\\\\'--heads\\\\\\']\\\\nfatal: unable to access \\\\\\'https://github.com/commaai/openpilot.git/\\\\\\': Could not resolve host: github.com\\\\n\" },        { \"key\": \"LastUpdateTime\",          \"value\": \"2024-01-14T11:07:59.409031\" },        { \"key\": \"LiveParameters\",          \"value\": \"{\\\\\"carFingerprint\\\\\": \\\\\"mock\\\\\", \\\\\"steerRatio\\\\\": 0.054940465837717056, \\\\\"stiffnessFactor\\\\\": 1.0366066694259644, \\\\\"angleOffsetAverageDeg\\\\\": -0.18274202942848206}\" },        { \"key\": \"LiveTorqueParameters\" },        { \"key\": \"LongitudinalPersonality\",          \"value\": \"1\" },        { \"key\": \"NavPastDestinations\",          \"value\": \"[\\\\n]\\\\n\" },        { \"key\": \"NavSettingTime24h\",          \"value\": \"1\" },        { \"key\": \"OpenpilotEnabledToggle\",          \"value\": \"1\" },        { \"key\": \"PandaSignatures\",          \"value\": \"=N\\\\244%\\\\bu\\\\325=#\\\\034xQ9Y\\\\206D\\\\361\\\\365\\\\326\\\\215\\\\221X\\\\317\\\\v\\\\236e,\\\\036\\\\0326\\\\342\\\\222\\\\027\\\\343S\\\\365[\\\\307\\\\271\\\\241\\\\b\\\\230\\\\bc\\\\277\\\\2530\\\\t\\\\334@\\\\207\\\\277\\\\031?H\\\\223\\\\334\\\\372\\\\023\\\\231\\\\0000s\\\\267;\\\\321&\\\\b\\\\272\\\\351\\\\330K\\\\\"\\\\362\\\\342+/\\\\326\\\\004 \\\\2219%\\\\215\\\\037\\\\313\\\\016\\\\036_4\\\\236\\\\232c\\\\3530R|\\\\030\\\\325\\\\024j\\\\305=\\\\f_\\\\274\\\\031L\\\\3203\\\\vx\\\\270\\\\305~\\\\234\\\\302\\\\253y\\\\262Hj\\\\372\\\\361\\\\357v\\\\r\\\\227\" },        {\"key\": \"Passive\", \"value\": \"0\"},        {\"key\": \"PrimeType\", \"value\": \"2\"},        {\"key\": \"RecordFront\", \"value\": \"0\"},        {\"key\": \"SshEnabled\", \"value\": \"1\"},        {\"key\": \"SubscriberInfo\", \"value\": \"\"},        {\"key\": \"TermsVersion\", \"value\": \"2\"},        {\"key\": \"TrainingVersion\", \"value\": \"0.2.0\"},        { \"key\": \"UpdateFailedCount\",          \"value\": \"1\" },        { \"key\": \"UpdaterAvailableBranches\",          \"value\": \"release3\" },        { \"key\": \"UpdaterCurrentDescription\",          \"value\": \"0.9.5-release / release3 / 0df6464 / Nov 28\" },        { \"key\": \"UpdaterCurrentReleaseNotes\",          \"value\": \"<h1>Version 0.9.5 {2023-11-17}</h1>\\\\n<ul>\\\\n<li>New driving model\\\\n<ul>\\\\n<li>Improved navigate on openpilot performance using navigation instructions as an additional model input</li>\\\\n<li>Do lateral planning inside the model</li>\\\\n<li>New vision transformer architecture</li>\\\\n</ul>\\\\n</li>\\\\n<li>Cadillac Escalade ESV 2019 support thanks to twilsonco!</li>\\\\n<li>Hyundai Azera 2022 support thanks to sunnyhaibin!</li>\\\\n<li>Hyundai Azera Hybrid 2020 support thanks to chanhojung and haram-KONA!</li>\\\\n<li>Hyundai Custin 2023 support thanks to sunnyhaibin and Saber422!</li>\\\\n<li>Hyundai Ioniq 6 2023 support thanks to sunnyhaibin and alamo3!</li>\\\\n<li>Hyundai Kona Electric 2023 {Korean version} support thanks to sunnyhaibin and haram-KONA!</li>\\\\n<li>Kia K8 Hybrid {with HDA II} 2023 support thanks to sunnyhaibin!</li>\\\\n<li>Kia Optima Hybrid 2019 support</li>\\\\n<li>Kia Sorento Hybrid 2023 support thanks to sunnyhaibin!</li>\\\\n<li>Lexus GS F 2016 support thanks to snyperifle!</li>\\\\n<li>Lexus IS 2023 support thanks to L3R5!</li>\\\\n</ul>\\\\n\" },        { \"key\": \"UpdaterFetchAvailable\",          \"value\": \"1\" },        { \"key\": \"UpdaterNewDescription\",          \"value\": \"\" },        { \"key\": \"UpdaterNewReleaseNotes\",          \"value\": \"\" },        {\"key\": \"UpdaterState\", \"value\": \"idle\"},        { \"key\": \"UpdaterTargetBranch\",          \"value\": \"release3\" },        {\"key\": \"Version\", \"value\": \"0.9.5-release\"} ] },    \"osVersion\": \"8.2\",    \"commands\": {      \"entries\": [        { \"key\": \"df -h\",          \"value\": \"Filesystem      Size  Used Avail Use% Mounted on\\\\n/dev/root       9.8G  4.2G  5.2G  45% /\\\\ndevtmpfs        1.7G     0  1.7G   0% /dev\\\\ntmpfs           1.8G  166M  1.6G  10% /dev/shm\\\\ntmpfs           358M   18M  341M   5% /run\\\\ntmpfs           5.0M  4.0K  5.0M   1% /run/lock\\\\ntmpfs           1.8G     0  1.8G   0% /sys/fs/cgroup\\\\ntmpfs           150M  436K  150M   1% /tmp\\\\ntmpfs           128M   12M  117M   9% /var\\\\n/dev/sda10       12M   24K   11M   1% /systemrw\\\\n/dev/sda2        27M   28K   25M   1% /persist\\\\n/dev/sda11      108M   36K   99M   1% /cache\\\\n/dev/sde9        28M   20M  7.3M  73% /dsp\\\\n/dev/sde4       120M   43M   77M  36% /firmware\\\\n/dev/sda12       88G   26G   58G  31% /data\\\\noverlay         150M  436K  150M   1% /home\\\\nnone             88G   26G   58G  31% /data/safe_staging/merged\\\\n\" },        { \"key\": \"/BUILD\",          \"value\": \"932375f7e9b318d100672af5c881c6c41e987d2e\\\\n2023-07-20T14:43:46\" },        { \"key\": \"abl_a\",          \"value\": \"fff3f3acbf0c30f109a6d661395d642c6f9413e893c939b3c33f1cfee5f49ad0\" },        { \"key\": \"abl_b\",          \"value\": \"dc7192b1b53e6f814ddd1613d2837da2a2a34db28e41c6c9a0a951bba0cb15d5\" },        { \"key\": \"aop_a\",          \"value\": \"583a4b2d364faf73befef705a998a0d0833aad4deeb473b22e43e668280fb63e\" },        { \"key\": \"aop_b\",          \"value\": \"bc431d08873562c31b877b3ddaa1dd140ede63437041bfbc9ba31952a7cc86c1\" },        {\"key\": \"boot slot\", \"value\": \"_a\"},        { \"key\": \"boot temp\",          \"value\": \"BOOT_TEMP:29.8C\" },        { \"key\": \"devcfg_a\",          \"value\": \"f1abe5aa5f7ac8d870a41cf384d31429b489dc307138b6e691effcfd7cbfb5b7\" },        { \"key\": \"devcfg_b\",          \"value\": \"97f771fa90e5cca0793ff8f910c76ee05dfa5419992b94d62e57a293a07bfa7a\" },        { \"key\": \"lsblk\",          \"value\": \"NAME      SIZE STATE   VENDOR   MODEL          REV SERIAL\\\\nsda       113G running WDC      SDINDDH4-128G 1308 WDC\\\\n\\\\342\\\\224\\\\234\\\\342\\\\224\\\\200sda1      8K                                     \\\\n\\\\342\\\\224\\\\234\\\\342\\\\224\\\\200sda2     32M                                     \\\\n\\\\342\\\\224\\\\234\\\\342\\\\224\\\\200sda3      1M                                     \\\\n\\\\342\\\\224\\\\234\\\\342\\\\224\\\\200sda4    512K                                     \\\\n\\\\342\\\\224\\\\234\\\\342\\\\224\\\\200sda5    512K                                     \\\\n\\\\342\\\\224\\\\234\\\\342\\\\224\\\\200sda6   11.6G                                     \\\\n\\\\342\\\\224\\\\234\\\\342\\\\224\\\\200sda7   11.6G                                     \\\\n\\\\342\\\\224\\\\234\\\\342\\\\224\\\\200sda8    128M                                     \\\\n\\\\342\\\\224\\\\234\\\\342\\\\224\\\\200sda9     32M                                     \\\\n\\\\342\\\\224\\\\234\\\\342\\\\224\\\\200sda10    16M                                     \\\\n\\\\342\\\\224\\\\234\\\\342\\\\224\\\\200sda11   128M                                     \\\\n\\\\342\\\\224\\\\224\\\\342\\\\224\\\\200sda12  89.5G                                     \\\\nsdb         8M running WDC      SDINDDH4-128G 1308 WDC\\\\n\\\\342\\\\224\\\\234\\\\342\\\\224\\\\200sdb1    3.5M                                     \\\\n\\\\342\\\\224\\\\224\\\\342\\\\224\\\\200sdb2    356K                                     \\\\nsdc         8M running WDC      SDINDDH4-128G 1308 WDC\\\\n\\\\342\\\\224\\\\234\\\\342\\\\224\\\\200sdc1    3.5M                                     \\\\n\\\\342\\\\224\\\\224\\\\342\\\\224\\\\200sdc2    356K                                     \\\\nsdd       128M running WDC      SDINDDH4-128G 1308 WDC\\\\n\\\\342\\\\224\\\\234\\\\342\\\\224\\\\200sdd1    104K                                     \\\\n\\\\342\\\\224\\\\234\\\\342\\\\224\\\\200sdd2    128K                                     \\\\n\\\\342\\\\224\\\\224\\\\342\\\\224\\\\200sdd3      1M                                     \\\\nsde         6G running WDC      SDINDDH4-128G 1308 WDC\\\\n\\\\342\\\\224\\\\234\\\\342\\\\224\\\\200sde1    512K                                     \\\\n\\\\342\\\\224\\\\234\\\\342\\\\224\\\\200sde2      2M                                     \\\\n\\\\342\\\\224\\\\234\\\\342\\\\224\\\\200sde3    512K                                     \\\\n\\\\342\\\\224\\\\234\\\\342\\\\224\\\\200sde4    120M                                     \\\\n\\\\342\\\\224\\\\234\\\\342\\\\224\\\\200sde5      1M                                     \\\\n\\\\342\\\\224\\\\234\\\\342\\\\224\\\\200sde6      4M                                     \\\\n\\\\342\\\\224\\\\234\\\\342\\\\224\\\\200sde7     32M                                     \\\\n\\\\342\\\\224\\\\234\\\\342\\\\224\\\\200sde8      1M                                     \\\\n\\\\342\\\\224\\\\234\\\\342\\\\224\\\\200sde9     32M                                     \\\\n\\\\342\\\\224\\\\234\\\\342\\\\224\\\\200sde10   512K                                     \\\\n\\\\342\\\\224\\\\234\\\\342\\\\224\\\\200sde11    64M                                     \\\\n\\\\342\\\\224\\\\234\\\\342\\\\224\\\\200sde12   512K                                     \\\\n\\\\342\\\\224\\\\234\\\\342\\\\224\\\\200sde13   512K                                     \\\\n\\\\342\\\\224\\\\234\\\\342\\\\224\\\\200sde14   128K                                     \\\\n\\\\342\\\\224\\\\234\\\\342\\\\224\\\\200sde15    64K                                     \\\\n\\\\342\\\\224\\\\234\\\\342\\\\224\\\\200sde16   128K                                     \\\\n\\\\342\\\\224\\\\234\\\\342\\\\224\\\\200sde17     1M                                     \\\\n\\\\342\\\\224\\\\234\\\\342\\\\224\\\\200sde18   512K                                     \\\\n\\\\342\\\\224\\\\234\\\\342\\\\224\\\\200sde19     2M                                     \\\\n\\\\342\\\\224\\\\234\\\\342\\\\224\\\\200sde20   512K                                     \\\\n\\\\342\\\\224\\\\234\\\\342\\\\224\\\\200sde21   120M                                     \\\\n\\\\342\\\\224\\\\234\\\\342\\\\224\\\\200sde22     1M                                     \\\\n\\\\342\\\\224\\\\234\\\\342\\\\224\\\\200sde23     4M                                     \\\\n\\\\342\\\\224\\\\234\\\\342\\\\224\\\\200sde24    32M                                     \\\\n\\\\342\\\\224\\\\234\\\\342\\\\224\\\\200sde25     1M                                     \\\\n\\\\342\\\\224\\\\234\\\\342\\\\224\\\\200sde26    32M                                     \\\\n\\\\342\\\\224\\\\234\\\\342\\\\224\\\\200sde27   512K                                     \\\\n\\\\342\\\\224\\\\234\\\\342\\\\224\\\\200sde28    64M                                     \\\\n\\\\342\\\\224\\\\234\\\\342\\\\224\\\\200sde29   512K                                     \\\\n\\\\342\\\\224\\\\234\\\\342\\\\224\\\\200sde30   512K                                     \\\\n\\\\342\\\\224\\\\234\\\\342\\\\224\\\\200sde31   128K                                     \\\\n\\\\342\\\\224\\\\234\\\\342\\\\224\\\\200sde32    64K                                     \\\\n\\\\342\\\\224\\\\234\\\\342\\\\224\\\\200sde33   128K                                     \\\\n\\\\342\\\\224\\\\234\\\\342\\\\224\\\\200sde34     1M                                     \\\\n\\\\342\\\\224\\\\234\\\\342\\\\224\\\\200sde35    16K                                     \\\\n\\\\342\\\\224\\\\234\\\\342\\\\224\\\\200sde36     4K                                     \\\\n\\\\342\\\\224\\\\234\\\\342\\\\224\\\\200sde37     1M                                     \\\\n\\\\342\\\\224\\\\234\\\\342\\\\224\\\\200sde38   512K                                     \\\\n\\\\342\\\\224\\\\234\\\\342\\\\224\\\\200sde39   256K                                     \\\\n\\\\342\\\\224\\\\234\\\\342\\\\224\\\\200sde40   256K                                     \\\\n\\\\342\\\\224\\\\234\\\\342\\\\224\\\\200sde41     8M                                     \\\\n\\\\342\\\\224\\\\234\\\\342\\\\224\\\\200sde42  32.7M                                     \\\\n\\\\342\\\\224\\\\234\\\\342\\\\224\\\\200sde43     4K                                     \\\\n\\\\342\\\\224\\\\234\\\\342\\\\224\\\\200sde44     1M                                     \\\\n\\\\342\\\\224\\\\234\\\\342\\\\224\\\\200sde45     8M                                     \\\\n\\\\342\\\\224\\\\234\\\\342\\\\224\\\\200sde46     2M                                     \\\\n\\\\342\\\\224\\\\234\\\\342\\\\224\\\\200sde47   128M                                     \\\\n\\\\342\\\\224\\\\224\\\\342\\\\224\\\\200sde48    64M                                     \\\\nsdf       128M running WDC      SDINDDH4-128G 1308 WDC\\\\n\\\\342\\\\224\\\\234\\\\342\\\\224\\\\200sdf1    104K                                     \\\\n\\\\342\\\\224\\\\234\\\\342\\\\224\\\\200sdf2      2M                                     \\\\n\\\\342\\\\224\\\\234\\\\342\\\\224\\\\200sdf3      2M                                     \\\\n\\\\342\\\\224\\\\234\\\\342\\\\224\\\\200sdf4      2M                                     \\\\n\\\\342\\\\224\\\\224\\\\342\\\\224\\\\200sdf5  121.9M                                     \\\\n\" },        { \"key\": \"xbl_a\",          \"value\": \"2847543f7f99dc854960cc92c2babe5a82c0257084320ee6ec012a42c53f303d\" },        { \"key\": \"xbl_b\",          \"value\": \"fa6dbac230b3033c8cb43b46574102179a42b8418e447b133d112600a44298e3\" },        { \"key\": \"xbl_config_a\",          \"value\": \"48831dc66cac28f8ab43e35f4d2de90c14862b3ff761d1cada06bc0dc0a06420\" },        { \"key\": \"xbl_config_b\",          \"value\": \"b0b02683c01418e7f99ef9176bdfdac32be1a8995483ac866037f22570859cca\" } ] },    \"wallTimeNanos\": 1705233686323811044 },  \"valid\": true }'"
      ]
     },
     "execution_count": 150,
     "metadata": {},
     "output_type": "execute_result"
    }
   ],
   "source": [
    "result = parse_capnp_string(str(qlog_list[0]))\n",
    "result"
   ]
  },
  {
   "cell_type": "code",
   "execution_count": 146,
   "metadata": {},
   "outputs": [
    {
     "ename": "JSONDecodeError",
     "evalue": "Expecting ',' delimiter: line 1 column 529 (char 528)",
     "output_type": "error",
     "traceback": [
      "\u001b[0;31m---------------------------------------------------------------------------\u001b[0m",
      "\u001b[0;31mJSONDecodeError\u001b[0m                           Traceback (most recent call last)",
      "Cell \u001b[0;32mIn[146], line 2\u001b[0m\n\u001b[1;32m      1\u001b[0m \u001b[38;5;28;01mimport\u001b[39;00m \u001b[38;5;21;01mjson\u001b[39;00m\n\u001b[0;32m----> 2\u001b[0m \u001b[43mjson\u001b[49m\u001b[38;5;241;43m.\u001b[39;49m\u001b[43mloads\u001b[49m\u001b[43m(\u001b[49m\u001b[43mresult\u001b[49m\u001b[43m)\u001b[49m\n",
      "File \u001b[0;32m~/.pyenv/versions/3.11.4/lib/python3.11/json/__init__.py:346\u001b[0m, in \u001b[0;36mloads\u001b[0;34m(s, cls, object_hook, parse_float, parse_int, parse_constant, object_pairs_hook, **kw)\u001b[0m\n\u001b[1;32m    341\u001b[0m     s \u001b[38;5;241m=\u001b[39m s\u001b[38;5;241m.\u001b[39mdecode(detect_encoding(s), \u001b[38;5;124m'\u001b[39m\u001b[38;5;124msurrogatepass\u001b[39m\u001b[38;5;124m'\u001b[39m)\n\u001b[1;32m    343\u001b[0m \u001b[38;5;28;01mif\u001b[39;00m (\u001b[38;5;28mcls\u001b[39m \u001b[38;5;129;01mis\u001b[39;00m \u001b[38;5;28;01mNone\u001b[39;00m \u001b[38;5;129;01mand\u001b[39;00m object_hook \u001b[38;5;129;01mis\u001b[39;00m \u001b[38;5;28;01mNone\u001b[39;00m \u001b[38;5;129;01mand\u001b[39;00m\n\u001b[1;32m    344\u001b[0m         parse_int \u001b[38;5;129;01mis\u001b[39;00m \u001b[38;5;28;01mNone\u001b[39;00m \u001b[38;5;129;01mand\u001b[39;00m parse_float \u001b[38;5;129;01mis\u001b[39;00m \u001b[38;5;28;01mNone\u001b[39;00m \u001b[38;5;129;01mand\u001b[39;00m\n\u001b[1;32m    345\u001b[0m         parse_constant \u001b[38;5;129;01mis\u001b[39;00m \u001b[38;5;28;01mNone\u001b[39;00m \u001b[38;5;129;01mand\u001b[39;00m object_pairs_hook \u001b[38;5;129;01mis\u001b[39;00m \u001b[38;5;28;01mNone\u001b[39;00m \u001b[38;5;129;01mand\u001b[39;00m \u001b[38;5;129;01mnot\u001b[39;00m kw):\n\u001b[0;32m--> 346\u001b[0m     \u001b[38;5;28;01mreturn\u001b[39;00m \u001b[43m_default_decoder\u001b[49m\u001b[38;5;241;43m.\u001b[39;49m\u001b[43mdecode\u001b[49m\u001b[43m(\u001b[49m\u001b[43ms\u001b[49m\u001b[43m)\u001b[49m\n\u001b[1;32m    347\u001b[0m \u001b[38;5;28;01mif\u001b[39;00m \u001b[38;5;28mcls\u001b[39m \u001b[38;5;129;01mis\u001b[39;00m \u001b[38;5;28;01mNone\u001b[39;00m:\n\u001b[1;32m    348\u001b[0m     \u001b[38;5;28mcls\u001b[39m \u001b[38;5;241m=\u001b[39m JSONDecoder\n",
      "File \u001b[0;32m~/.pyenv/versions/3.11.4/lib/python3.11/json/decoder.py:337\u001b[0m, in \u001b[0;36mJSONDecoder.decode\u001b[0;34m(self, s, _w)\u001b[0m\n\u001b[1;32m    332\u001b[0m \u001b[38;5;28;01mdef\u001b[39;00m \u001b[38;5;21mdecode\u001b[39m(\u001b[38;5;28mself\u001b[39m, s, _w\u001b[38;5;241m=\u001b[39mWHITESPACE\u001b[38;5;241m.\u001b[39mmatch):\n\u001b[1;32m    333\u001b[0m \u001b[38;5;250m    \u001b[39m\u001b[38;5;124;03m\"\"\"Return the Python representation of ``s`` (a ``str`` instance\u001b[39;00m\n\u001b[1;32m    334\u001b[0m \u001b[38;5;124;03m    containing a JSON document).\u001b[39;00m\n\u001b[1;32m    335\u001b[0m \n\u001b[1;32m    336\u001b[0m \u001b[38;5;124;03m    \"\"\"\u001b[39;00m\n\u001b[0;32m--> 337\u001b[0m     obj, end \u001b[38;5;241m=\u001b[39m \u001b[38;5;28;43mself\u001b[39;49m\u001b[38;5;241;43m.\u001b[39;49m\u001b[43mraw_decode\u001b[49m\u001b[43m(\u001b[49m\u001b[43ms\u001b[49m\u001b[43m,\u001b[49m\u001b[43m \u001b[49m\u001b[43midx\u001b[49m\u001b[38;5;241;43m=\u001b[39;49m\u001b[43m_w\u001b[49m\u001b[43m(\u001b[49m\u001b[43ms\u001b[49m\u001b[43m,\u001b[49m\u001b[43m \u001b[49m\u001b[38;5;241;43m0\u001b[39;49m\u001b[43m)\u001b[49m\u001b[38;5;241;43m.\u001b[39;49m\u001b[43mend\u001b[49m\u001b[43m(\u001b[49m\u001b[43m)\u001b[49m\u001b[43m)\u001b[49m\n\u001b[1;32m    338\u001b[0m     end \u001b[38;5;241m=\u001b[39m _w(s, end)\u001b[38;5;241m.\u001b[39mend()\n\u001b[1;32m    339\u001b[0m     \u001b[38;5;28;01mif\u001b[39;00m end \u001b[38;5;241m!=\u001b[39m \u001b[38;5;28mlen\u001b[39m(s):\n",
      "File \u001b[0;32m~/.pyenv/versions/3.11.4/lib/python3.11/json/decoder.py:353\u001b[0m, in \u001b[0;36mJSONDecoder.raw_decode\u001b[0;34m(self, s, idx)\u001b[0m\n\u001b[1;32m    344\u001b[0m \u001b[38;5;250m\u001b[39m\u001b[38;5;124;03m\"\"\"Decode a JSON document from ``s`` (a ``str`` beginning with\u001b[39;00m\n\u001b[1;32m    345\u001b[0m \u001b[38;5;124;03ma JSON document) and return a 2-tuple of the Python\u001b[39;00m\n\u001b[1;32m    346\u001b[0m \u001b[38;5;124;03mrepresentation and the index in ``s`` where the document ended.\u001b[39;00m\n\u001b[0;32m   (...)\u001b[0m\n\u001b[1;32m    350\u001b[0m \n\u001b[1;32m    351\u001b[0m \u001b[38;5;124;03m\"\"\"\u001b[39;00m\n\u001b[1;32m    352\u001b[0m \u001b[38;5;28;01mtry\u001b[39;00m:\n\u001b[0;32m--> 353\u001b[0m     obj, end \u001b[38;5;241m=\u001b[39m \u001b[38;5;28;43mself\u001b[39;49m\u001b[38;5;241;43m.\u001b[39;49m\u001b[43mscan_once\u001b[49m\u001b[43m(\u001b[49m\u001b[43ms\u001b[49m\u001b[43m,\u001b[49m\u001b[43m \u001b[49m\u001b[43midx\u001b[49m\u001b[43m)\u001b[49m\n\u001b[1;32m    354\u001b[0m \u001b[38;5;28;01mexcept\u001b[39;00m \u001b[38;5;167;01mStopIteration\u001b[39;00m \u001b[38;5;28;01mas\u001b[39;00m err:\n\u001b[1;32m    355\u001b[0m     \u001b[38;5;28;01mraise\u001b[39;00m JSONDecodeError(\u001b[38;5;124m\"\u001b[39m\u001b[38;5;124mExpecting value\u001b[39m\u001b[38;5;124m\"\u001b[39m, s, err\u001b[38;5;241m.\u001b[39mvalue) \u001b[38;5;28;01mfrom\u001b[39;00m \u001b[38;5;28;01mNone\u001b[39;00m\n",
      "\u001b[0;31mJSONDecodeError\u001b[0m: Expecting ',' delimiter: line 1 column 529 (char 528)"
     ]
    }
   ],
   "source": [
    "import json\n",
    "json.loads(result)"
   ]
  },
  {
   "cell_type": "code",
   "execution_count": 212,
   "metadata": {},
   "outputs": [
    {
     "data": {
      "text/plain": [
       "30"
      ]
     },
     "execution_count": 212,
     "metadata": {},
     "output_type": "execute_result"
    }
   ],
   "source": [
    "model_qlogs = [log for log in qlog_list if log.which() == \"modelV2\"]\n",
    "len(model_qlogs)"
   ]
  },
  {
   "cell_type": "code",
   "execution_count": 216,
   "metadata": {},
   "outputs": [
    {
     "name": "stdout",
     "output_type": "stream",
     "text": [
      "( logMonoTime = 1157092048359,\n",
      "  valid = true,\n",
      "  modelV2 = (\n",
      "    frameId = 12124,\n",
      "    frameAge = 0,\n",
      "    frameDropPerc = 0,\n",
      "    timestampEof = 1157054624400,\n",
      "    position = (\n",
      "      x = [-1.5592933, -1.4079607, -0.94034994, -0.15331817, 0.94597781, 2.3502755, 4.0572281, 6.0816054, 8.4199743, 11.076779, 14.033125, 17.309542, 20.904549, 24.821371, 29.01038, 33.533928, 38.38641, 43.53376, 49.012196, 54.781616, 60.868141, 67.290619, 74.051605, 81.10144, 88.533752, 96.25666, 104.33369, 112.71635, 121.48546, 130.49567, 140.00322, 149.6834, 159.83925],\n",
      "      y = [0.14344487, 0.14307681, 0.14316955, 0.14308006, 0.14098066, 0.13810413, 0.13371153, 0.12756485, 0.12173094, 0.11274366, 0.10223039, 0.090855211, 0.077490106, 0.060879104, 0.045715623, 0.030229293, 0.017647684, 0.014660567, 0.016167995, 0.033507023, 0.074235037, 0.13414395, 0.22833961, 0.34605789, 0.51319385, 0.70221877, 0.94211924, 1.2192439, 1.5349848, 1.9019217, 2.3123288, 2.7670474, 3.3022468],\n",
      "      z = [-0.0004885589, -0.00065296923, -0.0011744954, -0.0024380931, -0.0049609779, -0.0095592849, -0.016549565, -0.025900828, -0.036896829, -0.048939422, -0.060825396, -0.0727814, -0.084423847, -0.095825411, -0.10738299, -0.11885752, -0.13120723, -0.14488783, -0.15986511, -0.17693248, -0.1946159, -0.21482906, -0.23632459, -0.259345, -0.28783917, -0.31454495, -0.34430635, -0.37529415, -0.40842438, -0.44313583, -0.47403622, -0.50204653, -0.52813447],\n",
      "      t = [0, 0.009765625, 0.0390625, 0.087890625, 0.15625, 0.24414062, 0.3515625, 0.47851562, 0.625, 0.79101562, 0.9765625, 1.1816406, 1.40625, 1.6503906, 1.9140625, 2.1972656, 2.5, 2.8222656, 3.1640625, 3.5253906, 3.90625, 4.3066406, 4.7265625, 5.1660156, 5.625, 6.1035156, 6.6015625, 7.1191406, 7.65625, 8.2128906, 8.7890625, 9.3847656, 10],\n",
      "      xStd = [1.2708846, 1.2721382, 1.2671236, 1.2656516, 1.2733501, 1.2888936, 1.3127235, 1.3512386, 1.3962771, 1.4545125, 1.5278112, 1.6139199, 1.7120006, 1.8224503, 1.9471408, 2.0835402, 2.236402, 2.4022334, 2.5725472, 2.7659929, 2.9726932, 3.1878307, 3.4170318, 3.6696823, 3.9230788, 4.1946287, 4.5156574, 4.820219, 5.1692896, 5.52441, 5.9314709, 6.328207, 6.7826743],\n",
      "      yStd = [0.16271274, 0.1626984, 0.16306683, 0.16300297, 0.16407104, 0.16491142, 0.16636804, 0.16840716, 0.17057292, 0.17406046, 0.17797631, 0.1826099, 0.18816224, 0.19472614, 0.20218477, 0.2105644, 0.22075255, 0.23244418, 0.24643129, 0.26299646, 0.28287691, 0.30696532, 0.33365098, 0.36765444, 0.40431744, 0.44646853, 0.49492842, 0.55231291, 0.61329508, 0.68293571, 0.76270521, 0.85489213, 0.9539333],\n",
      "      zStd = [0.0012216395, 0.001452752, 0.0021730755, 0.0034114225, 0.0052556545, 0.0079273256, 0.011459748, 0.015462976, 0.01952664, 0.023778984, 0.028417788, 0.033576783, 0.038781382, 0.044517606, 0.050290745, 0.056428488, 0.063010141, 0.069909684, 0.077114217, 0.084536836, 0.092445657, 0.1004992, 0.10866399, 0.11728723, 0.12626253, 0.13582726, 0.14603838, 0.15699477, 0.16884756, 0.1821672, 0.19701755, 0.21458691, 0.23307033] ),\n",
      "    orientation = (\n",
      "      x = [0.001254888, 0.001460466, 0.0020859742, 0.0028037091, 0.0032486769, 0.0030719712, 0.002204845, 0.00098765688, -0.00020218815, -0.0015270479, -0.0030382194, -0.0044986028, -0.0057898387, -0.0070436373, -0.0080361413, -0.0089936173, -0.0097889742, -0.010397228, -0.010813301, -0.011125229, -0.01137827, -0.01151707, -0.01156746, -0.01164132, -0.011663045, -0.011861385, -0.011817867, -0.011830607, -0.011664895, -0.011693599, -0.011526596, -0.011499796, -0.011538547],\n",
      "      y = [0.00039070786, 0.000497604, 0.00080560695, 0.0013552216, 0.0020832603, 0.0028374605, 0.0033948794, 0.0038168132, 0.0040989113, 0.0041429386, 0.00392924, 0.0036784832, 0.0035183979, 0.00338028, 0.0032914085, 0.0032805908, 0.0032874958, 0.0033327143, 0.0034242177, 0.0035039415, 0.0035849032, 0.0036251845, 0.0036926691, 0.0037680801, 0.0038345493, 0.0038531045, 0.0037801177, 0.0037409766, 0.0036746096, 0.0035568129, 0.0034344846, 0.0032096, 0.0030926482],\n",
      "      z = [-0.0027058204, -0.0027108321, -0.0026963013, -0.0026735384, -0.0026518442, -0.0025971576, -0.0024648912, -0.0023871856, -0.0024865665, -0.0026066476, -0.0026959484, -0.0028035357, -0.0028167595, -0.0026633684, -0.0024841912, -0.0019343924, -0.0010810127, 0.00015000557, 0.0018663001, 0.0041153268, 0.0067587849, 0.00981831, 0.013197377, 0.016823513, 0.020558408, 0.024484139, 0.028341079, 0.031891804, 0.035585433, 0.038753174, 0.041507456, 0.044494063, 0.047242634],\n",
      "      t = [0, 0.009765625, 0.0390625, 0.087890625, 0.15625, 0.24414062, 0.3515625, 0.47851562, 0.625, 0.79101562, 0.9765625, 1.1816406, 1.40625, 1.6503906, 1.9140625, 2.1972656, 2.5, 2.8222656, 3.1640625, 3.5253906, 3.90625, 4.3066406, 4.7265625, 5.1660156, 5.625, 6.1035156, 6.6015625, 7.1191406, 7.65625, 8.2128906, 8.7890625, 9.3847656, 10] ),\n",
      "    velocity = (\n",
      "      x = [15.995184, 16.001587, 16.003246, 15.99017, 15.987219, 15.984821, 15.979439, 15.97306, 15.965937, 15.954859, 15.941505, 15.937855, 15.93754, 15.926531, 15.930927, 15.935228, 15.9361, 15.952374, 15.95666, 15.969696, 16.003519, 16.03875, 16.068508, 16.103163, 16.132296, 16.17205, 16.193632, 16.220879, 16.250481, 16.2826, 16.327059, 16.353899, 16.384108],\n",
      "      y = [-0.0058694524, -0.0066287252, -0.010680126, -0.018904123, -0.030627195, -0.041615, -0.049251262, -0.049924184, -0.049629141, -0.05200706, -0.053328, -0.053701989, -0.053110875, -0.052427851, -0.0507748, -0.051183969, -0.051031977, -0.048066881, -0.047947526, -0.044919103, -0.044398833, -0.044048309, -0.041989416, -0.04255617, -0.041319236, -0.041213419, -0.041837167, -0.042894315, -0.043159414, -0.041764997, -0.042835936, -0.042183373, -0.044041265],\n",
      "      z = [-0.013640722, -0.013976909, -0.014291005, -0.01499432, -0.015734889, -0.01693202, -0.017364815, -0.014924932, -0.009173112, -0.0050009005, -0.0046322318, -0.003540721, -0.0024297358, -0.0019454865, -0.0010035057, -0.00053012825, -0.00026725582, 0.00047393114, 0.00065792887, 0.00075363461, 0.0011591879, 0.001914499, 0.0027032557, 0.0033051753, 0.0034431028, 0.0035099802, 0.0036078955, 0.0035269242, 0.0034025693, 0.0031510042, 0.0022869357, 0.0016545842, 0.00070880889],\n",
      "      t = [0, 0.009765625, 0.0390625, 0.087890625, 0.15625, 0.24414062, 0.3515625, 0.47851562, 0.625, 0.79101562, 0.9765625, 1.1816406, 1.40625, 1.6503906, 1.9140625, 2.1972656, 2.5, 2.8222656, 3.1640625, 3.5253906, 3.90625, 4.3066406, 4.7265625, 5.1660156, 5.625, 6.1035156, 6.6015625, 7.1191406, 7.65625, 8.2128906, 8.7890625, 9.3847656, 10] ),\n",
      "    orientationRate = (\n",
      "      x = [0.018181706, 0.017385673, 0.015087429, 0.010515352, 0.003827157, -0.0031416863, -0.0072105336, -0.0073863864, -0.0068908804, -0.0070959292, -0.0069456347, -0.0059531266, -0.0052058841, -0.0043474594, -0.0035376756, -0.0029540013, -0.0023042271, -0.0017572618, -0.0012655301, -0.00087324419, -0.000580934, -0.00056693295, -0.00048077764, -0.00042437189, -0.00034639411, -0.00025130832, -0.00033599202, -0.00029999876, -0.00029895926, -0.00017795165, -0.00016236608, -0.00028082094, -0.00019072501],\n",
      "      y = [0.0077372873, 0.0080039343, 0.0087539731, 0.0093214279, 0.0088779023, 0.0067626876, 0.0042392197, 0.0025128471, 0.0011193843, -0.00027560117, -0.0010845634, -0.00096389162, -0.00074531225, -0.00056898448, -0.00026901538, -8.4063853e-05, 0.00010222086, 0.00027080375, 0.00028424853, 0.000351004, 0.00023020589, 0.00022412889, 0.00016196864, 4.169796e-05, -0.00018549425, -0.00026353562, -0.00034803705, -0.00042349013, -0.00055072748, -0.00052307732, -0.00061422383, -0.00056427496, -0.00061910716],\n",
      "      z = [0.001053385, 0.0010582836, 0.0010269213, 0.0010665087, 0.001194143, 0.0012952723, 0.0011033675, 0.00047870143, -5.7113939e-05, -5.0239032e-05, 7.0892624e-05, 0.00011101482, 0.00040551508, 0.00085193012, 0.0015667812, 0.0024251959, 0.0033505373, 0.004269687, 0.0054410808, 0.0062663704, 0.0070780697, 0.0075597344, 0.00799487, 0.0081772972, 0.0080427192, 0.0078583509, 0.0075327996, 0.0071094148, 0.006644703, 0.0061129685, 0.0056874161, 0.0052344743, 0.0048076455],\n",
      "      t = [0, 0.009765625, 0.0390625, 0.087890625, 0.15625, 0.24414062, 0.3515625, 0.47851562, 0.625, 0.79101562, 0.9765625, 1.1816406, 1.40625, 1.6503906, 1.9140625, 2.1972656, 2.5, 2.8222656, 3.1640625, 3.5253906, 3.90625, 4.3066406, 4.7265625, 5.1660156, 5.625, 6.1035156, 6.6015625, 7.1191406, 7.65625, 8.2128906, 8.7890625, 9.3847656, 10] ),\n",
      "    laneLines = [\n",
      "      ( x = [0, 0.1875, 0.75, 1.6875, 3, 4.6875, 6.75, 9.1875, 12, 15.1875, 18.75, 22.6875, 27, 31.6875, 36.75, 42.1875, 48, 54.1875, 60.75, 67.6875, 75, 82.6875, 90.75, 99.1875, 108, 117.1875, 126.75, 136.6875, 147, 157.6875, 168.75, 180.1875, 192],\n",
      "        y = [-3.9294972, -3.9266527, -3.9300585, -3.9385827, -3.9544508, -3.9579895, -3.9583554, -3.9604466, -3.9426112, -3.9234829, -3.8986998, -3.8922443, -3.9029622, -3.9186411, -3.9371953, -3.94134, -3.9273834, -3.8918929, -3.8297737, -3.7543988, -3.6507781, -3.5092931, -3.3349252, -3.1523905, -2.9490733, -2.673388, -2.3900771, -2.0825739, -1.669271, -1.3321307, -0.87501073, -0.38131547, 0.1019063],\n",
      "        z = [1.4591421, 1.4587218, 1.4584814, 1.455363, 1.4515003, 1.4459271, 1.4374259, 1.4258615, 1.4109194, 1.3936945, 1.3735574, 1.3532102, 1.3368523, 1.3251677, 1.3164219, 1.3092843, 1.3044641, 1.2950335, 1.2832134, 1.2687926, 1.2520424, 1.2302519, 1.211109, 1.1826085, 1.1499499, 1.1169487, 1.0688732, 1.0377651, 0.99305433, 0.95890725, 0.90805584, 0.86944062, 0.83257061],\n",
      "        t = [0, 0.10908429, 0.14406317, 0.20265956, 0.28502905, 0.39108822, 0.5203864, 0.67296034, 0.848959, 1.0488174, 1.2716378, 1.5173837, 1.7875217, 2.0816674, 2.3979084, 2.7379789, 3.1009121, 3.4881823, 3.8988574, 4.3312907, 4.7856808, 5.2639632, 5.76232, 6.2842374, 6.8279347, 7.3929996, 7.9814878, 8.5881252, 9.2196341, 9.8696489, 10, nan, nan] ),\n",
      "      ( x = [0, 0.1875, 0.75, 1.6875, 3, 4.6875, 6.75, 9.1875, 12, 15.1875, 18.75, 22.6875, 27, 31.6875, 36.75, 42.1875, 48, 54.1875, 60.75, 67.6875, 75, 82.6875, 90.75, 99.1875, 108, 117.1875, 126.75, 136.6875, 147, 157.6875, 168.75, 180.1875, 192],\n",
      "        y = [-1.9057322, -1.905792, -1.91086, -1.9218791, -1.934636, -1.9492905, -1.9693799, -1.992384, -2.0199904, -2.0479598, -2.0774214, -2.1097507, -2.1392343, -2.1606514, -2.1673629, -2.1672542, -2.1527896, -2.1208186, -2.0548108, -1.9792837, -1.8770533, -1.7630901, -1.6117747, -1.4753755, -1.2780552, -1.0338407, -0.76979816, -0.47639465, -0.17281795, 0.27851367, 0.61891055, 1.082231, 1.5540185],\n",
      "        z = [1.42448, 1.423526, 1.4221696, 1.4205939, 1.4167532, 1.4119513, 1.4041159, 1.3933207, 1.3800658, 1.3653876, 1.3479679, 1.3318186, 1.3176787, 1.3041779, 1.2904013, 1.2789258, 1.2684228, 1.255553, 1.2404225, 1.2213455, 1.2017652, 1.180333, 1.1515813, 1.122027, 1.0889431, 1.0567902, 1.0144087, 0.98135865, 0.9441247, 0.90748918, 0.85454631, 0.81796563, 0.772069],\n",
      "        t = [0, 0.10908429, 0.14406317, 0.20265956, 0.28502905, 0.39108822, 0.5203864, 0.67296034, 0.848959, 1.0488174, 1.2716378, 1.5173837, 1.7875217, 2.0816674, 2.3979084, 2.7379789, 3.1009121, 3.4881823, 3.8988574, 4.3312907, 4.7856808, 5.2639632, 5.76232, 6.2842374, 6.8279347, 7.3929996, 7.9814878, 8.5881252, 9.2196341, 9.8696489, 10, nan, nan] ),\n",
      "      ( x = [0, 0.1875, 0.75, 1.6875, 3, 4.6875, 6.75, 9.1875, 12, 15.1875, 18.75, 22.6875, 27, 31.6875, 36.75, 42.1875, 48, 54.1875, 60.75, 67.6875, 75, 82.6875, 90.75, 99.1875, 108, 117.1875, 126.75, 136.6875, 147, 157.6875, 168.75, 180.1875, 192],\n",
      "        y = [1.768106, 1.7678428, 1.7683308, 1.770378, 1.7699013, 1.7698417, 1.7636845, 1.7551122, 1.737288, 1.7126551, 1.6797506, 1.6394483, 1.5941153, 1.5540113, 1.5234265, 1.5038614, 1.5041614, 1.5159128, 1.5575074, 1.6159565, 1.6880107, 1.7934579, 1.9151313, 2.0676742, 2.2591462, 2.4484057, 2.7130957, 3.0157158, 3.3198633, 3.6803393, 4.1209054, 4.5214157, 5.0754962],\n",
      "        z = [1.4026349, 1.4027237, 1.4016758, 1.4016418, 1.3999368, 1.3985823, 1.394839, 1.3885969, 1.3781202, 1.3618051, 1.3422766, 1.320456, 1.2992769, 1.2798996, 1.2624716, 1.246285, 1.2273557, 1.2093256, 1.1917739, 1.1695626, 1.1441534, 1.116213, 1.0882027, 1.0582078, 1.0255719, 0.99062568, 0.95449787, 0.913427, 0.8675335, 0.82705766, 0.78468192, 0.74233937, 0.6916678],\n",
      "        t = [0, 0.10908429, 0.14406317, 0.20265956, 0.28502905, 0.39108822, 0.5203864, 0.67296034, 0.848959, 1.0488174, 1.2716378, 1.5173837, 1.7875217, 2.0816674, 2.3979084, 2.7379789, 3.1009121, 3.4881823, 3.8988574, 4.3312907, 4.7856808, 5.2639632, 5.76232, 6.2842374, 6.8279347, 7.3929996, 7.9814878, 8.5881252, 9.2196341, 9.8696489, 10, nan, nan] ),\n",
      "      ( x = [0, 0.1875, 0.75, 1.6875, 3, 4.6875, 6.75, 9.1875, 12, 15.1875, 18.75, 22.6875, 27, 31.6875, 36.75, 42.1875, 48, 54.1875, 60.75, 67.6875, 75, 82.6875, 90.75, 99.1875, 108, 117.1875, 126.75, 136.6875, 147, 157.6875, 168.75, 180.1875, 192],\n",
      "        y = [3.7626982, 3.7588358, 3.7520702, 3.7648654, 3.7615824, 3.7744784, 3.7673326, 3.7650042, 3.749979, 3.7139788, 3.6650429, 3.5951586, 3.5167537, 3.4290807, 3.36849, 3.3060598, 3.2748942, 3.2646632, 3.2841461, 3.2929327, 3.363456, 3.434732, 3.560864, 3.6959839, 3.8317666, 4.0118847, 4.2620106, 4.5720081, 4.7773151, 5.262711, 5.5401211, 6.0099277, 6.442565],\n",
      "        z = [1.3819028, 1.3824731, 1.3822756, 1.3812075, 1.3800498, 1.3774977, 1.3752925, 1.3718495, 1.3680006, 1.3590258, 1.3424333, 1.3204815, 1.2959416, 1.2688487, 1.2429947, 1.2197541, 1.1984913, 1.1742257, 1.1476277, 1.1263314, 1.0980513, 1.0789717, 1.0449106, 1.0113238, 0.9661485, 0.9361313, 0.8883757, 0.8492738, 0.80512595, 0.76363927, 0.71173108, 0.66335046, 0.60119545],\n",
      "        t = [0, 0.10908429, 0.14406317, 0.20265956, 0.28502905, 0.39108822, 0.5203864, 0.67296034, 0.848959, 1.0488174, 1.2716378, 1.5173837, 1.7875217, 2.0816674, 2.3979084, 2.7379789, 3.1009121, 3.4881823, 3.8988574, 4.3312907, 4.7856808, 5.2639632, 5.76232, 6.2842374, 6.8279347, 7.3929996, 7.9814878, 8.5881252, 9.2196341, 9.8696489, 10, nan, nan] ) ],\n",
      "    laneLineProbs = [0.083054684, 0.33361289, 0.056188647, 9.8823395e-05],\n",
      "    roadEdges = [\n",
      "      ( x = [0, 0.1875, 0.75, 1.6875, 3, 4.6875, 6.75, 9.1875, 12, 15.1875, 18.75, 22.6875, 27, 31.6875, 36.75, 42.1875, 48, 54.1875, 60.75, 67.6875, 75, 82.6875, 90.75, 99.1875, 108, 117.1875, 126.75, 136.6875, 147, 157.6875, 168.75, 180.1875, 192],\n",
      "        y = [-5.860455, -5.8633738, -5.85939, -5.8625932, -5.8682823, -5.8644009, -5.86164, -5.8545933, -5.8421984, -5.8215771, -5.7890143, -5.7497973, -5.715796, -5.6778173, -5.6433678, -5.6206989, -5.6069336, -5.602057, -5.5748429, -5.5541134, -5.4973907, -5.4116235, -5.3118811, -5.14409, -4.9338665, -4.6641617, -4.3259039, -3.9963303, -3.5624485, -3.0543785, -2.5069056, -1.89993, -1.1888161],\n",
      "        z = [1.4542117, 1.4537627, 1.4531369, 1.4516295, 1.4495448, 1.447421, 1.4417148, 1.4350311, 1.4260244, 1.4141386, 1.3987695, 1.3806744, 1.3589969, 1.3387545, 1.3193511, 1.3030598, 1.2857057, 1.2724115, 1.259038, 1.2457788, 1.2322557, 1.2163067, 1.1982412, 1.1752055, 1.1556058, 1.1347018, 1.1114687, 1.0860389, 1.0616961, 1.0363926, 1.0055442, 0.98227841, 0.94815391],\n",
      "        t = [0, 0.10908429, 0.14406317, 0.20265956, 0.28502905, 0.39108822, 0.5203864, 0.67296034, 0.848959, 1.0488174, 1.2716378, 1.5173837, 1.7875217, 2.0816674, 2.3979084, 2.7379789, 3.1009121, 3.4881823, 3.8988574, 4.3312907, 4.7856808, 5.2639632, 5.76232, 6.2842374, 6.8279347, 7.3929996, 7.9814878, 8.5881252, 9.2196341, 9.8696489, 10, nan, nan] ),\n",
      "      ( x = [0, 0.1875, 0.75, 1.6875, 3, 4.6875, 6.75, 9.1875, 12, 15.1875, 18.75, 22.6875, 27, 31.6875, 36.75, 42.1875, 48, 54.1875, 60.75, 67.6875, 75, 82.6875, 90.75, 99.1875, 108, 117.1875, 126.75, 136.6875, 147, 157.6875, 168.75, 180.1875, 192],\n",
      "        y = [2.2496614, 2.2530203, 2.2480445, 2.2550011, 2.2489078, 2.2522094, 2.2541664, 2.2602191, 2.2692347, 2.2721586, 2.269969, 2.269556, 2.2687857, 2.2593017, 2.257762, 2.252512, 2.2590704, 2.2703643, 2.2813964, 2.3218763, 2.3767505, 2.4835904, 2.607686, 2.7738018, 2.9879365, 3.2482548, 3.5815115, 3.9432039, 4.3810987, 4.8929157, 5.4312782, 6.0936565, 6.6913033],\n",
      "        z = [1.405468, 1.405827, 1.4052973, 1.4050665, 1.4041879, 1.401193, 1.3969989, 1.3888078, 1.3770304, 1.3624955, 1.3417864, 1.3183013, 1.2899084, 1.2626379, 1.2354203, 1.2114652, 1.1899145, 1.1718552, 1.1528548, 1.1342767, 1.1168109, 1.0980101, 1.0738394, 1.0515914, 1.0292296, 1.0040145, 0.97478485, 0.94500726, 0.92057681, 0.88822043, 0.85349548, 0.82655776, 0.78857017],\n",
      "        t = [0, 0.10908429, 0.14406317, 0.20265956, 0.28502905, 0.39108822, 0.5203864, 0.67296034, 0.848959, 1.0488174, 1.2716378, 1.5173837, 1.7875217, 2.0816674, 2.3979084, 2.7379789, 3.1009121, 3.4881823, 3.8988574, 4.3312907, 4.7856808, 5.2639632, 5.76232, 6.2842374, 6.8279347, 7.3929996, 7.9814878, 8.5881252, 9.2196341, 9.8696489, 10, nan, nan] ) ],\n",
      "    meta = (\n",
      "      engagedProb = 0.030139927,\n",
      "      desirePrediction = [0.88824874, 7.5487737e-06, 3.39928e-05, 0.013800678, 0.049794339, 0.0065630688, 0.041551732, 1.3375975e-14, 0.91981554, 4.7385961e-06, 1.7895012e-05, 0.019303557, 0.02921555, 0.007879898, 0.023762923, 4.6332153e-14, 0.94918066, 1.7394408e-05, 2.562251e-05, 0.02039201, 0.010951079, 0.0074062049, 0.012027008, 4.4629519e-14, 0.95716614, 6.4663509e-05, 4.9788519e-05, 0.019089576, 0.0079378458, 0.006463916, 0.00922808, 1.4675758e-13],\n",
      "      brakeDisengageProbDEPRECATED = 0,\n",
      "      gasDisengageProbDEPRECATED = 0,\n",
      "      steerOverrideProbDEPRECATED = 0,\n",
      "      desireState = [0.99781632, 1.2435053e-06, 4.1242333e-06, 7.3592179e-05, 0.0012148154, 0.00031343754, 0.00057652238, 1.700182e-14],\n",
      "      disengagePredictions = (\n",
      "        t = [2, 4, 6, 8, 10],\n",
      "        brakeDisengageProbs = [0.004920701, 0.011422048, 0.020048177, 0.033307869, 0.048064284],\n",
      "        gasDisengageProbs = [0.011311397, 0.021116059, 0.027460469, 0.032872152, 0.037606373],\n",
      "        steerOverrideProbs = [0.667717, 0.71889496, 0.74486727, 0.7622081, 0.77983463],\n",
      "        brake3MetersPerSecondSquaredProbs = [0.0002906257, 0.0006845278, 0.0013883401, 0.00229682, 0.0033994913],\n",
      "        brake4MetersPerSecondSquaredProbs = [3.77818e-05, 9.2937429e-05, 0.00017750092, 0.00030353837, 0.00044705372],\n",
      "        brake5MetersPerSecondSquaredProbs = [5.9637837e-06, 1.2613729e-05, 2.5077547e-05, 4.0824831e-05, 6.1570165e-05] ),\n",
      "      hardBrakePredicted = false,\n",
      "      laneChangeState = off,\n",
      "      laneChangeDirection = none ),\n",
      "    laneLineStds = [0.90138257, 1.1428857, 0.83492768, 1.3208673],\n",
      "    roadEdgeStds = [1.0528978, 0.43088496],\n",
      "    modelExecutionTime = 0.025074011,\n",
      "    gpuExecutionTime = 0,\n",
      "    leadsV3 = [\n",
      "      ( prob = 0.018677283,\n",
      "        probTime = 0,\n",
      "        t = [0, 2, 4, 6, 8, 10],\n",
      "        x = [146.41095, -1.2385464, 0.34995681, 0.24333343, 0.45977172, -0.97156978],\n",
      "        xStd = [10.650009, 2.7082169, 0.70011139, 1.2305409, 0.556875, 0.50004369],\n",
      "        y = [2.1464648, 1.0427301, 0.14292112, 0.70973718, 0.19811149, 0.058364093],\n",
      "        yStd = [0.99374217, 1.3556763, 0.668712, 1.1806102, 3.8007324, 1.0586448],\n",
      "        v = [16.74205, 16.607246, 16.381607, 16.252626, 16.01284, 15.710071],\n",
      "        vStd = [2.302429, 2.2170415, 2.2225313, 2.3190205, 2.59115, 3.0226874],\n",
      "        a = [0.061836377, 0.0807714, 0.11495909, 0.088333942, 0.022978514, -0.034000665],\n",
      "        aStd = [0.30718353, 0.32521483, 0.34346527, 0.36646563, 0.39164227, 0.39886206] ),\n",
      "      ( prob = 0.014229127,\n",
      "        probTime = 2,\n",
      "        t = [0, 2, 4, 6, 8, 10],\n",
      "        x = [119.45525, 1.1906672, -0.92875773, -0.27933809, -1.5934298, -0.23287228],\n",
      "        xStd = [13.598051, 0.95564032, 0.54748631, 1.0436906, 1.3022767, 0.4333387],\n",
      "        y = [1.4086449, 0.09529072, -1.2736011, -0.87726969, -0.67802322, -0.8067739],\n",
      "        yStd = [1.0822771, 1.4513664, 0.28943479, 2.4003627, 1.5961891, 0.99003184],\n",
      "        v = [16.477306, 16.568153, 16.647493, 16.60018, 16.465, 16.331682],\n",
      "        vStd = [2.1157405, 2.1011682, 2.1523731, 2.2299843, 2.3403327, 2.5494573],\n",
      "        a = [0.052815221, 0.033763111, 0.0324118, 0.017490715, -0.0013858303, -0.029900864],\n",
      "        aStd = [0.31527552, 0.32948771, 0.32188451, 0.3265439, 0.3515029, 0.37554783] ),\n",
      "      ( prob = 0.015008853,\n",
      "        probTime = 4,\n",
      "        t = [0, 2, 4, 6, 8, 10],\n",
      "        x = [119.45525, 1.1906672, -0.92875773, -0.27933809, -1.5934298, -0.23287228],\n",
      "        xStd = [13.598051, 0.95564032, 0.54748631, 1.0436906, 1.3022767, 0.4333387],\n",
      "        y = [1.4086449, 0.09529072, -1.2736011, -0.87726969, -0.67802322, -0.8067739],\n",
      "        yStd = [1.0822771, 1.4513664, 0.28943479, 2.4003627, 1.5961891, 0.99003184],\n",
      "        v = [16.477306, 16.568153, 16.647493, 16.60018, 16.465, 16.331682],\n",
      "        vStd = [2.1157405, 2.1011682, 2.1523731, 2.2299843, 2.3403327, 2.5494573],\n",
      "        a = [0.052815221, 0.033763111, 0.0324118, 0.017490715, -0.0013858303, -0.029900864],\n",
      "        aStd = [0.31527552, 0.32948771, 0.32188451, 0.3265439, 0.3515029, 0.37554783] ) ],\n",
      "    acceleration = (\n",
      "      x = [-0.0885578, -0.086150572, -0.078217618, -0.06491027, -0.049851857, -0.04415524, -0.050555855, -0.060822845, -0.06026281, -0.052277431, -0.047756657, -0.042630419, -0.031174932, -0.01846806, -0.0069379434, 0.0028438345, 0.014217615, 0.026457682, 0.037664212, 0.047158495, 0.053890064, 0.063186713, 0.069597423, 0.073895022, 0.073217377, 0.071660027, 0.06674172, 0.065732054, 0.065205418, 0.064515188, 0.061890915, 0.058767192, 0.04966839],\n",
      "      y = [-0.027837027, -0.036998812, -0.064007774, -0.094103426, -0.10300335, -0.079176269, -0.037745565, -0.0081988648, -0.0086734165, -0.011247311, -0.0038031545, 0.0027523623, 0.0083707394, 0.020978451, 0.033987433, 0.045787241, 0.065866768, 0.083854809, 0.10103816, 0.11298614, 0.12548378, 0.13293217, 0.13471992, 0.13266648, 0.12616937, 0.12519628, 0.11861359, 0.11323785, 0.10559468, 0.099814281, 0.092314608, 0.085167736, 0.079306044],\n",
      "      z = [-0.12826477, -0.13147409, -0.14241035, -0.15173829, -0.14892277, -0.11602443, -0.064831756, -0.021143075, 0.0019373326, 0.012277735, 0.023599513, 0.026913213, 0.02281951, 0.017082738, 0.011180516, 0.0060773911, 0.001733494, -0.001665117, -0.0043531316, -0.005504936, -0.0065813847, -0.0049742642, -0.0035741921, -0.0028868311, 0.00053931656, 0.00063676364, 0.0013764964, 0.0043184217, 0.0053506405, 0.004378804, 0.0044536497, 0.0043010339, 0.0033519794],\n",
      "      t = [0, 0.009765625, 0.0390625, 0.087890625, 0.15625, 0.24414062, 0.3515625, 0.47851562, 0.625, 0.79101562, 0.9765625, 1.1816406, 1.40625, 1.6503906, 1.9140625, 2.1972656, 2.5, 2.8222656, 3.1640625, 3.5253906, 3.90625, 4.3066406, 4.7265625, 5.1660156, 5.625, 6.1035156, 6.6015625, 7.1191406, 7.65625, 8.2128906, 8.7890625, 9.3847656, 10] ),\n",
      "    frameIdExtra = 12124,\n",
      "    temporalPose = (\n",
      "      trans = [16.14617, 0.031849287, -0.0082320981],\n",
      "      rot = [0.022951916, 0.0044286447, 0.0088525508],\n",
      "      transStd = [0.36219862, 0.023440976, 0.026623111],\n",
      "      rotStd = [0.0089489976, 0.0080414079, 0.0020979827] ),\n",
      "    navEnabled = false,\n",
      "    confidence = red,\n",
      "    locationMonoTime = 1156743390911,\n",
      "    lateralPlannerSolutionDEPRECATED = (\n",
      "      x = [0, 0.15826851, 0.63301545, 1.4239689, 2.53402, 3.9572649, 5.6972771, 7.7675161, 10.144763, 12.842257, 15.849354, 19.186356, 22.840317, 26.800304, 31.091969, 35.721531, 40.648376, 45.953857, 51.501671, 57.416286, 63.668549, 70.2776, 77.21373, 84.440971, 92.097404, 100.02441, 108.36679, 116.92586, 125.79054, 135.06717, 144.74986, 154.70981, 164.9583],\n",
      "      y = [0, 0.00011754285, 0.00055755995, 0.0015640882, 0.0035279645, 0.0068790237, 0.011930561, 0.01893165, 0.027777553, 0.037875343, 0.047787704, 0.05749793, 0.064702332, 0.068860337, 0.068892106, 0.064993769, 0.059639215, 0.056185931, 0.057594717, 0.070349306, 0.0975495, 0.15154445, 0.22841048, 0.33736229, 0.47415018, 0.64244986, 0.84719968, 1.0826895, 1.3533651, 1.6509447, 1.9923749, 2.3412273, 2.7297547],\n",
      "      yaw = [0, 0.0001118338, 0.00043388043, 0.00095749833, 0.0016247745, 0.0023952592, 0.0031764612, 0.0038529525, 0.0043261731, 0.0044451384, 0.0042002471, 0.0035530068, 0.0025428128, 0.0013214438, 0.00011993852, -0.00078314357, -0.0010505184, -0.00063809287, 0.000586031, 0.0027268934, 0.0055467458, 0.0089952666, 0.012892937, 0.016957212, 0.020841653, 0.024736013, 0.028158769, 0.031232575, 0.033773325, 0.035614878, 0.036893226, 0.037596256, 0.037936263],\n",
      "      yawRate = [0.01126995, 0.011187936, 0.010862759, 0.010287431, 0.0093957689, 0.0081107151, 0.0063819378, 0.0043476252, 0.0020312183, -0.00030313735, -0.0023790621, -0.0039790892, -0.0048506968, -0.0048998455, -0.0040029138, -0.0023166994, -3.3299206e-05, 0.002429307, 0.0047083795, 0.0065693683, 0.0078436378, 0.0085515194, 0.0086998949, 0.0083219577, 0.0075381706, 0.0064176572, 0.0052351621, 0.0040984927, 0.0030218405, 0.002442243, 0.0021372079, 0.0016556132, 0.0013124894],\n",
      "      xStd = [0.0010015069, 0.0059042214, 0.023648139, 0.053136207, 0.094018295, 0.14678557, 0.21168147, 0.28849247, 0.37837747, 0.48105347, 0.59612364, 0.72368, 0.8662644, 1.0205008, 1.1897311, 1.3810991, 1.5934225, 1.823879, 2.0845828, 2.3598647, 2.6667635, 2.995034, 3.3467782, 3.7352352, 4.1530123, 4.6032429, 5.0938559, 5.625092, 6.2042527, 6.8257751, 7.5071025, 8.2573662, 9.02959],\n",
      "      yStd = [0.0010015054, 0.0010005188, 0.0010013909, 0.001511908, 0.0036830909, 0.0076028439, 0.014066249, 0.023708714, 0.037069272, 0.054473672, 0.075491354, 0.099342749, 0.12461706, 0.14941831, 0.17230824, 0.19237117, 0.20879865, 0.2228142, 0.23522045, 0.24931866, 0.26679686, 0.29055676, 0.3223545, 0.36218879, 0.41282114, 0.47343543, 0.54566914, 0.62820143, 0.72033143, 0.82442397, 0.93593735, 1.0579635, 1.1964618],\n",
      "      yawStd = [0.0010015065, 0.0010015236, 0.00099524949, 0.001075439, 0.0017022978, 0.0026688823, 0.0037413267, 0.0048427032, 0.0058615659, 0.0066750892, 0.0071919016, 0.0073331441, 0.0071046636, 0.0065587694, 0.0059356168, 0.0054226755, 0.0052441838, 0.0053772749, 0.0057788058, 0.0062856372, 0.0068372139, 0.0074577224, 0.0081452029, 0.0088881375, 0.0097275293, 0.01059273, 0.011489606, 0.012377384, 0.013282453, 0.014238974, 0.0151854, 0.01619721, 0.017616162],\n",
      "      yawRateStd = [0.011102583, 0.011120741, 0.011131739, 0.011112472, 0.010896082, 0.010368691, 0.0094097853, 0.008047319, 0.0063199047, 0.0045102723, 0.0032467954, 0.0033263911, 0.0043057972, 0.0052533443, 0.0057640495, 0.0057906969, 0.0053917686, 0.0048491894, 0.0044181268, 0.0042543486, 0.0043248679, 0.0045260107, 0.0047150892, 0.0048509422, 0.0049447296, 0.0050107092, 0.0050868187, 0.005137458, 0.0051075243, 0.0051027918, 0.0052945795, 0.0058550485, 0.0062915324] ) ) )\n"
     ]
    }
   ],
   "source": [
    "print(model_qlogs[3])"
   ]
  },
  {
   "cell_type": "markdown",
   "metadata": {},
   "source": [
    "# The different types of CAN messages"
   ]
  },
  {
   "cell_type": "code",
   "execution_count": 208,
   "metadata": {},
   "outputs": [
    {
     "data": {
      "text/plain": [
       "11515"
      ]
     },
     "execution_count": 208,
     "metadata": {},
     "output_type": "execute_result"
    }
   ],
   "source": [
    "types = [item.which() for item in qlog_list]\n",
    "len(types)"
   ]
  },
  {
   "cell_type": "code",
   "execution_count": 210,
   "metadata": {},
   "outputs": [
    {
     "data": {
      "text/plain": [
       "43"
      ]
     },
     "execution_count": 210,
     "metadata": {},
     "output_type": "execute_result"
    }
   ],
   "source": [
    "unique_types = set(types)\n",
    "len(unique_types)"
   ]
  },
  {
   "cell_type": "code",
   "execution_count": 211,
   "metadata": {},
   "outputs": [
    {
     "data": {
      "text/plain": [
       "{'accelerometer',\n",
       " 'cameraOdometry',\n",
       " 'can',\n",
       " 'carControl',\n",
       " 'carParams',\n",
       " 'carState',\n",
       " 'controlsState',\n",
       " 'deviceState',\n",
       " 'driverCameraState',\n",
       " 'driverEncodeIdx',\n",
       " 'driverMonitoringState',\n",
       " 'driverStateV2',\n",
       " 'gpsLocation',\n",
       " 'gyroscope',\n",
       " 'initData',\n",
       " 'lateralPlanDEPRECATED',\n",
       " 'liveCalibration',\n",
       " 'liveLocationKalman',\n",
       " 'liveParameters',\n",
       " 'liveTorqueParameters',\n",
       " 'longitudinalPlan',\n",
       " 'magnetometer',\n",
       " 'managerState',\n",
       " 'mapRenderState',\n",
       " 'microphone',\n",
       " 'modelV2',\n",
       " 'navInstruction',\n",
       " 'navModel',\n",
       " 'onroadEvents',\n",
       " 'pandaStates',\n",
       " 'peripheralState',\n",
       " 'procLog',\n",
       " 'qRoadEncodeIdx',\n",
       " 'radarState',\n",
       " 'roadCameraState',\n",
       " 'roadEncodeIdx',\n",
       " 'sentinel',\n",
       " 'temperatureSensor',\n",
       " 'thumbnail',\n",
       " 'uiDebug',\n",
       " 'uiPlan',\n",
       " 'wideRoadCameraState',\n",
       " 'wideRoadEncodeIdx'}"
      ]
     },
     "execution_count": 211,
     "metadata": {},
     "output_type": "execute_result"
    }
   ],
   "source": [
    "unique_types"
   ]
  },
  {
   "cell_type": "markdown",
   "metadata": {},
   "source": [
    "Which of these are the most interesting to look at? \n",
    "\n",
    "\n",
    "1. modelV2\n"
   ]
  }
 ],
 "metadata": {
  "kernelspec": {
   "display_name": ".venv",
   "language": "python",
   "name": "python3"
  },
  "language_info": {
   "codemirror_mode": {
    "name": "ipython",
    "version": 3
   },
   "file_extension": ".py",
   "mimetype": "text/x-python",
   "name": "python",
   "nbconvert_exporter": "python",
   "pygments_lexer": "ipython3",
   "version": "3.11.4"
  }
 },
 "nbformat": 4,
 "nbformat_minor": 2
}
