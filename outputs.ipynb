{
 "cells": [
  {
   "cell_type": "code",
   "execution_count": 411,
   "metadata": {},
   "outputs": [],
   "source": [
    "import numpy as np\n"
   ]
  },
  {
   "cell_type": "code",
   "execution_count": 412,
   "metadata": {},
   "outputs": [],
   "source": [
    "\n",
    "\n",
    "def sigmoid(x):\n",
    "    return 1. / (1. + np.exp(-x))\n",
    "\n",
    "def softmax(x, axis=-1):\n",
    "    x -= np.max(x, axis=axis, keepdims=True)\n",
    "    if x.dtype == np.float32 or x.dtype == np.float64:\n",
    "        np.exp(x, out=x)\n",
    "    else:\n",
    "        x = np.exp(x)\n",
    "        x /= np.sum(x, axis=axis, keepdims=True)\n",
    "    return x\n",
    "\n",
    "def parse_mdn(name, outs, in_N=0, out_N=1, out_shape=None):\n",
    "    raw = outs[name]\n",
    "    raw = raw.reshape((raw.shape[0], max(in_N, 1), -1))\n",
    "\n",
    "    pred_mu = raw[:,:,:(raw.shape[2] - out_N)//2]\n",
    "    n_values = (raw.shape[2] - out_N)//2\n",
    "    pred_mu = raw[:,:,:n_values]\n",
    "    pred_std = np.exp(raw[:,:,n_values: 2*n_values])\n",
    "    #print(\"pred_mu1\", pred_mu.shape, pred_mu)\n",
    "\n",
    "    if in_N > 1:\n",
    "        weights = np.zeros((raw.shape[0], in_N, out_N), dtype=raw.dtype)\n",
    "        for i in range(out_N):\n",
    "            # print(\"weights index shape\", raw[:,:,i - out_N].shape)\n",
    "            weights[:,:,i - out_N] = softmax(raw[:,:,i - out_N], axis=-1)\n",
    "\n",
    "        if out_N == 1:\n",
    "            for fidx in range(weights.shape[0]):\n",
    "                idxs = np.argsort(weights[fidx][:,0])[::-1]\n",
    "                weights[fidx] = weights[fidx][idxs]\n",
    "                pred_mu[fidx] = pred_mu[fidx][idxs]\n",
    "                pred_std[fidx] = pred_std[fidx][idxs]\n",
    "        full_shape = tuple([raw.shape[0], in_N] + list(out_shape))\n",
    "        outs[name + '_weights'] = weights\n",
    "        outs[name + '_hypotheses'] = pred_mu.reshape(full_shape)\n",
    "        outs[name + '_stds_hypotheses'] = pred_std.reshape(full_shape)\n",
    "\n",
    "        pred_mu_final = np.zeros((raw.shape[0], out_N, n_values), dtype=raw.dtype)\n",
    "        pred_std_final = np.zeros((raw.shape[0], out_N, n_values), dtype=raw.dtype)\n",
    "        for fidx in range(weights.shape[0]):\n",
    "            for hidx in range(out_N):\n",
    "                idxs = np.argsort(weights[fidx,:,hidx])[::-1]\n",
    "                pred_mu_final[fidx, hidx] = pred_mu[fidx, idxs[0]]\n",
    "                pred_std_final[fidx, hidx] = pred_std[fidx, idxs[0]]\n",
    "        # print(\"pred_mu2\", pred_mu_final.shape, pred_mu_final)\n",
    "    else:\n",
    "        pred_mu_final = pred_mu\n",
    "        pred_std_final = pred_std\n",
    "\n",
    "    if out_N > 1:\n",
    "        final_shape = tuple([raw.shape[0], out_N] + list(out_shape))\n",
    "    else:\n",
    "        final_shape = tuple([raw.shape[0],] + list(out_shape))\n",
    "    outs[name] = pred_mu_final.reshape(final_shape)\n",
    "    outs[name + '_stds'] = pred_std_final.reshape(final_shape)\n",
    "    return outs\n"
   ]
  },
  {
   "cell_type": "code",
   "execution_count": null,
   "metadata": {},
   "outputs": [],
   "source": []
  },
  {
   "cell_type": "code",
   "execution_count": 413,
   "metadata": {},
   "outputs": [],
   "source": [
    "def new_parse_mdn(input_tensor, in_N=0, out_N=1, out_shape=None):\n",
    "    raw = input_tensor\n",
    "    raw = raw.reshape((raw.shape[0], max(in_N, 1), -1))\n",
    "    #print(\"raw1\", raw.shape, raw)\n",
    "\n",
    "    n_values = (raw.shape[2] - out_N)//2\n",
    "    pred_mu = raw[:,:,:n_values]\n",
    "    pred_std = np.exp(raw[:,:,n_values: 2*n_values])\n",
    "    # print(\"pred_mu1\", pred_mu.shape, pred_mu)\n",
    "\n",
    "    if in_N > 1:\n",
    "        weights = np.zeros((raw.shape[0], in_N, out_N), dtype=raw.dtype)\n",
    "        for i in range(out_N):\n",
    "            # print(\"weights index shape\", raw[:,:,i - out_N].shape)\n",
    "            weights[:,:,i - out_N] = softmax(raw[:,:,i - out_N], axis=-1)\n",
    "\n",
    "        if out_N == 1:\n",
    "            for fidx in range(weights.shape[0]):\n",
    "                idxs = np.argsort(weights[fidx][:,0])[::-1]\n",
    "                weights[fidx] = weights[fidx][idxs]\n",
    "                pred_mu[fidx] = pred_mu[fidx][idxs]\n",
    "                pred_std[fidx] = pred_std[fidx][idxs]\n",
    "\n",
    "        pred_mu_final = np.zeros((raw.shape[0], out_N, n_values), dtype=raw.dtype)\n",
    "        pred_std_final = np.zeros((raw.shape[0], out_N, n_values), dtype=raw.dtype)\n",
    "        for fidx in range(weights.shape[0]):\n",
    "            for hidx in range(out_N):\n",
    "                idxs = np.argsort(weights[fidx,:,hidx])[::-1]\n",
    "                pred_mu_final[fidx, hidx] = pred_mu[fidx, idxs[0]]\n",
    "                pred_std_final[fidx, hidx] = pred_std[fidx, idxs[0]]\n",
    "        # print(\"pred_mu2\", pred_mu_final.shape, pred_mu_final)\n",
    "    else:\n",
    "        pred_mu_final = pred_mu\n",
    "        pred_std_final = pred_std\n",
    "\n",
    "    if out_N > 1:\n",
    "        final_shape = tuple([raw.shape[0], out_N] + list(out_shape))\n",
    "    else:\n",
    "        final_shape = tuple([raw.shape[0],] + list(out_shape))\n",
    "    final = pred_mu_final.reshape(final_shape)\n",
    "    final_stds = pred_std_final.reshape(final_shape)\n",
    "    return final, final_stds"
   ]
  },
  {
   "cell_type": "code",
   "execution_count": 414,
   "metadata": {},
   "outputs": [],
   "source": [
    "def compare(name, rand, in_N, out_N, out_shape):\n",
    "    rand = np.random.rand(*rand)\n",
    "    print(\"all\", name, rand, in_N, out_N, out_shape)\n",
    "    print(\"rand\", rand[:2, :2])\n",
    "    outs_orig = {}\n",
    "    outs_orig[name] = np.copy(rand)\n",
    "    outs_orig = parse_mdn(name, outs_orig, in_N, out_N, out_shape)\n",
    "    orig_out = outs_orig[name]\n",
    "    orig_stds = outs_orig[name + '_stds']\n",
    "    print(\"all\", name, rand, in_N, out_N, out_shape)\n",
    "\n",
    "    # new\n",
    "\n",
    "    final, stds = new_parse_mdn(np.copy(rand), in_N, out_N, out_shape)\n",
    "\n",
    "    print(\"all\", name, rand, in_N, out_N, out_shape)\n",
    "\n",
    "    if np.allclose(orig_out, final, atol=0.001) and orig_out.shape == final.shape:\n",
    "        print(\"Output matches!\")\n",
    "    else:\n",
    "        print(\"not matching\", orig_out[:2, :2, :2],\"\\n\", final[:2, :2, :2])\n",
    "    if np.allclose(orig_stds, stds) and orig_stds.shape == stds.shape:\n",
    "        print(\"Stds match!\")\n",
    "\n",
    "    else:\n",
    "        print(\"It doesn't match!\")\n"
   ]
  },
  {
   "cell_type": "code",
   "execution_count": 415,
   "metadata": {},
   "outputs": [
    {
     "data": {
      "text/plain": [
       "''"
      ]
     },
     "execution_count": 415,
     "metadata": {},
     "output_type": "execute_result"
    }
   ],
   "source": [
    "outs = {}\n",
    "outs[\"plan\"] = np.random.rand(1, 4955)\n",
    "parse_mdn('plan', outs, in_N=5, out_N=1, out_shape=(33 ,15))\n",
    "outs['plan'].shape\n",
    "\"\""
   ]
  },
  {
   "cell_type": "code",
   "execution_count": 416,
   "metadata": {},
   "outputs": [
    {
     "name": "stdout",
     "output_type": "stream",
     "text": [
      "all plan [[0.48743325 0.56121467 0.09961541 ... 0.22013133 0.20395704 0.75284165]] 5 1 (33, 15)\n",
      "rand [[0.48743325 0.56121467]]\n",
      "all plan [[0.48743325 0.56121467 0.09961541 ... 0.22013133 0.20395704 0.75284165]] 5 1 (33, 15)\n",
      "all plan [[0.48743325 0.56121467 0.09961541 ... 0.22013133 0.20395704 0.75284165]] 5 1 (33, 15)\n",
      "Output matches!\n",
      "Stds match!\n"
     ]
    }
   ],
   "source": [
    "compare(\"plan\", (1, 4955), 5, 1, (33, 15))"
   ]
  },
  {
   "cell_type": "code",
   "execution_count": 417,
   "metadata": {},
   "outputs": [
    {
     "data": {
      "text/plain": [
       "''"
      ]
     },
     "execution_count": 417,
     "metadata": {},
     "output_type": "execute_result"
    }
   ],
   "source": [
    "\n",
    "outs = {}\n",
    "outs[\"lead\"] = np.random.rand(1, 102)\n",
    "parse_mdn('lead', outs, in_N=2, out_N=3, out_shape=(6 ,4 ))\n",
    "\"\""
   ]
  },
  {
   "cell_type": "code",
   "execution_count": 418,
   "metadata": {},
   "outputs": [
    {
     "name": "stdout",
     "output_type": "stream",
     "text": [
      "all lead [[0.26682139 0.71964466 0.02787892 0.67291071 0.40037167 0.36446549\n",
      "  0.41055723 0.12974938 0.12993392 0.77385801 0.39646749 0.20018192\n",
      "  0.01344558 0.67531722 0.0946575  0.59514798 0.8475552  0.77191966\n",
      "  0.48688467 0.98612799 0.41440056 0.68404347 0.18090945 0.91551586\n",
      "  0.01068158 0.29665883 0.22518282 0.77340035 0.53225784 0.71508046\n",
      "  0.84995425 0.70788866 0.70880783 0.37611446 0.03190937 0.6027609\n",
      "  0.63789596 0.98470403 0.65126685 0.77574072 0.09857331 0.04705282\n",
      "  0.89849166 0.97035705 0.56022714 0.41224445 0.95050002 0.78116782\n",
      "  0.47887082 0.43779115 0.74643279 0.49026343 0.50155099 0.23999204\n",
      "  0.7865971  0.11203179 0.25172103 0.79561071 0.03476969 0.49118885\n",
      "  0.56329064 0.45173026 0.48054116 0.01114354 0.8269745  0.97293342\n",
      "  0.63512192 0.68553129 0.83883242 0.72811961 0.21840604 0.72170723\n",
      "  0.93555554 0.19954617 0.4021347  0.11536183 0.9030587  0.85162222\n",
      "  0.07333316 0.45486776 0.35950759 0.8550457  0.78795931 0.63490911\n",
      "  0.92610087 0.98443235 0.67320828 0.61527626 0.86920179 0.8881712\n",
      "  0.52998151 0.36221719 0.51248482 0.50687133 0.76213162 0.99364125\n",
      "  0.96983909 0.28618675 0.36130305 0.87931218 0.53289426 0.0234761 ]] 2 3 (6, 4)\n",
      "rand [[0.26682139 0.71964466]]\n",
      "all lead [[0.26682139 0.71964466 0.02787892 0.67291071 0.40037167 0.36446549\n",
      "  0.41055723 0.12974938 0.12993392 0.77385801 0.39646749 0.20018192\n",
      "  0.01344558 0.67531722 0.0946575  0.59514798 0.8475552  0.77191966\n",
      "  0.48688467 0.98612799 0.41440056 0.68404347 0.18090945 0.91551586\n",
      "  0.01068158 0.29665883 0.22518282 0.77340035 0.53225784 0.71508046\n",
      "  0.84995425 0.70788866 0.70880783 0.37611446 0.03190937 0.6027609\n",
      "  0.63789596 0.98470403 0.65126685 0.77574072 0.09857331 0.04705282\n",
      "  0.89849166 0.97035705 0.56022714 0.41224445 0.95050002 0.78116782\n",
      "  0.47887082 0.43779115 0.74643279 0.49026343 0.50155099 0.23999204\n",
      "  0.7865971  0.11203179 0.25172103 0.79561071 0.03476969 0.49118885\n",
      "  0.56329064 0.45173026 0.48054116 0.01114354 0.8269745  0.97293342\n",
      "  0.63512192 0.68553129 0.83883242 0.72811961 0.21840604 0.72170723\n",
      "  0.93555554 0.19954617 0.4021347  0.11536183 0.9030587  0.85162222\n",
      "  0.07333316 0.45486776 0.35950759 0.8550457  0.78795931 0.63490911\n",
      "  0.92610087 0.98443235 0.67320828 0.61527626 0.86920179 0.8881712\n",
      "  0.52998151 0.36221719 0.51248482 0.50687133 0.76213162 0.99364125\n",
      "  0.96983909 0.28618675 0.36130305 0.87931218 0.53289426 0.0234761 ]] 2 3 (6, 4)\n",
      "all lead [[0.26682139 0.71964466 0.02787892 0.67291071 0.40037167 0.36446549\n",
      "  0.41055723 0.12974938 0.12993392 0.77385801 0.39646749 0.20018192\n",
      "  0.01344558 0.67531722 0.0946575  0.59514798 0.8475552  0.77191966\n",
      "  0.48688467 0.98612799 0.41440056 0.68404347 0.18090945 0.91551586\n",
      "  0.01068158 0.29665883 0.22518282 0.77340035 0.53225784 0.71508046\n",
      "  0.84995425 0.70788866 0.70880783 0.37611446 0.03190937 0.6027609\n",
      "  0.63789596 0.98470403 0.65126685 0.77574072 0.09857331 0.04705282\n",
      "  0.89849166 0.97035705 0.56022714 0.41224445 0.95050002 0.78116782\n",
      "  0.47887082 0.43779115 0.74643279 0.49026343 0.50155099 0.23999204\n",
      "  0.7865971  0.11203179 0.25172103 0.79561071 0.03476969 0.49118885\n",
      "  0.56329064 0.45173026 0.48054116 0.01114354 0.8269745  0.97293342\n",
      "  0.63512192 0.68553129 0.83883242 0.72811961 0.21840604 0.72170723\n",
      "  0.93555554 0.19954617 0.4021347  0.11536183 0.9030587  0.85162222\n",
      "  0.07333316 0.45486776 0.35950759 0.8550457  0.78795931 0.63490911\n",
      "  0.92610087 0.98443235 0.67320828 0.61527626 0.86920179 0.8881712\n",
      "  0.52998151 0.36221719 0.51248482 0.50687133 0.76213162 0.99364125\n",
      "  0.96983909 0.28618675 0.36130305 0.87931218 0.53289426 0.0234761 ]] 2 3 (6, 4)\n",
      "Output matches!\n",
      "Stds match!\n"
     ]
    }
   ],
   "source": [
    "compare(\"lead\", (1, 102), 2, 3, (6, 4))"
   ]
  }
 ],
 "metadata": {
  "kernelspec": {
   "display_name": ".venv",
   "language": "python",
   "name": "python3"
  },
  "language_info": {
   "codemirror_mode": {
    "name": "ipython",
    "version": 3
   },
   "file_extension": ".py",
   "mimetype": "text/x-python",
   "name": "python",
   "nbconvert_exporter": "python",
   "pygments_lexer": "ipython3",
   "version": "3.11.4"
  }
 },
 "nbformat": 4,
 "nbformat_minor": 2
}
